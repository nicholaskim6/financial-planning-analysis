{
 "cells": [
  {
   "cell_type": "code",
   "execution_count": 2,
   "metadata": {},
   "outputs": [],
   "source": [
    "#ORF 435, Final Project Nicholas Kim\n",
    "import copy\n",
    "import numpy as np\n",
    "import pandas as pd\n",
    "import matplotlib.pyplot as plt\n",
    "\n",
    "from scipy.optimize import minimize\n",
    "from scipy.optimize import linprog\n",
    "#from cvxpy import *\n",
    "from math import log\n",
    "import matplotlib.pyplot as plt"
   ]
  },
  {
   "cell_type": "code",
   "execution_count": 6,
   "metadata": {},
   "outputs": [
    {
     "data": {
      "text/plain": [
       "5972470.470970963"
      ]
     },
     "execution_count": 6,
     "metadata": {},
     "output_type": "execute_result"
    }
   ],
   "source": [
    "#Problem 1\n",
    "salary=250000\n",
    "salary = salary * (1.022**(67-30))\n",
    "\n",
    "def expectedSavings(lastSalary, lifeExpectancy, percentSpending):\n",
    "    r = 1.032\n",
    "    spending = percentSpending*lastSalary\n",
    "    expectedSavings = 0\n",
    "    for i in range(0,lifeExpectancy):\n",
    "        val = spending/(r**(i+1))\n",
    "        expectedSavings += val\n",
    "        spending = spending * 1.022\n",
    "    return expectedSavings\n",
    "    \n",
    "expectedSavings(salary, 17, 0.70)"
   ]
  },
  {
   "cell_type": "code",
   "execution_count": 33,
   "metadata": {},
   "outputs": [],
   "source": [
    "#Problem 2\n",
    "def p2f(x):\n",
    "    if (type(x) == type(\"string\")):\n",
    "        if ('%' in x):\n",
    "            return float(x.strip('%'))/100\n",
    "        if (any(i.isdigit() for i in x)):\n",
    "            return float(x)\n",
    "    return x\n",
    "\n",
    "dfFactors = pd.read_csv(r'C:\\Users\\Nick Kim\\Documents\\Nicholas Kim\\School\\School Semesters\\Fall 2019 Semester\\Risk Management\\HW8\\HW8_factors.csv')\n",
    "dfAssets = pd.read_csv(r'C:\\Users\\Nick Kim\\Documents\\Nicholas Kim\\School\\School Semesters\\Fall 2019 Semester\\Risk Management\\HW8\\HW8_assets.csv')\n",
    "\n",
    "dfFactorsNormal = dfFactors[dfFactors['Regime'] == 1]\n",
    "dfFactorsCrash = dfFactors[dfFactors['Regime'] == -1]\n",
    "dfAssetsNormal = dfAssets[dfAssets['Regime'] == 1]\n",
    "dfAssetsCrash = dfAssets[dfAssets['Regime'] == -1]"
   ]
  },
  {
   "cell_type": "code",
   "execution_count": 34,
   "metadata": {},
   "outputs": [],
   "source": [
    "dfNL = pd.read_csv(r'C:\\Users\\Nick Kim\\Documents\\Nicholas Kim\\School\\School Semesters\\Fall 2019 Semester\\Risk Management\\HW8\\HW8_normalLoadings.csv')\n",
    "dfCL = pd.read_csv(r'C:\\Users\\Nick Kim\\Documents\\Nicholas Kim\\School\\School Semesters\\Fall 2019 Semester\\Risk Management\\HW8\\HW8_crashLoadings.csv')"
   ]
  },
  {
   "cell_type": "code",
   "execution_count": 35,
   "metadata": {},
   "outputs": [],
   "source": [
    "dfNL.drop(['Unnamed: 7'], axis = 1, inplace = True)\n",
    "dfNL.fillna(value = 0, inplace = True)\n",
    "dfNL = dfNL.applymap(p2f)\n",
    "dfNL['Expected Return'].iloc[0] = 1\n",
    "dfCL.drop(['Unnamed: 7'], axis = 1, inplace = True)\n",
    "dfCL.fillna(value = 0, inplace = True)\n",
    "dfCL = dfCL.applymap(p2f)\n",
    "dfCL['Expected Return'].iloc[0] = 1"
   ]
  },
  {
   "cell_type": "code",
   "execution_count": 36,
   "metadata": {},
   "outputs": [
    {
     "name": "stdout",
     "output_type": "stream",
     "text": [
      "Expected Asset Returns\n"
     ]
    },
    {
     "data": {
      "text/html": [
       "<div>\n",
       "<style scoped>\n",
       "    .dataframe tbody tr th:only-of-type {\n",
       "        vertical-align: middle;\n",
       "    }\n",
       "\n",
       "    .dataframe tbody tr th {\n",
       "        vertical-align: top;\n",
       "    }\n",
       "\n",
       "    .dataframe thead th {\n",
       "        text-align: right;\n",
       "    }\n",
       "</style>\n",
       "<table border=\"1\" class=\"dataframe\">\n",
       "  <thead>\n",
       "    <tr style=\"text-align: right;\">\n",
       "      <th></th>\n",
       "      <th>Regime</th>\n",
       "      <th>US Equities</th>\n",
       "      <th>US Treasuries</th>\n",
       "      <th>High Yield</th>\n",
       "      <th>Corp Bonds</th>\n",
       "      <th>Real Estate</th>\n",
       "      <th>Commodities</th>\n",
       "    </tr>\n",
       "  </thead>\n",
       "  <tbody>\n",
       "    <tr>\n",
       "      <th>0</th>\n",
       "      <td>Normal</td>\n",
       "      <td>0.0112</td>\n",
       "      <td>0.003</td>\n",
       "      <td>0.008</td>\n",
       "      <td>0.0046</td>\n",
       "      <td>0.0084</td>\n",
       "      <td>0.0061</td>\n",
       "    </tr>\n",
       "    <tr>\n",
       "      <th>1</th>\n",
       "      <td>Crash</td>\n",
       "      <td>-0.0270</td>\n",
       "      <td>0.008</td>\n",
       "      <td>-0.016</td>\n",
       "      <td>0.0029</td>\n",
       "      <td>-0.0179</td>\n",
       "      <td>-0.0080</td>\n",
       "    </tr>\n",
       "  </tbody>\n",
       "</table>\n",
       "</div>"
      ],
      "text/plain": [
       "   Regime  US Equities  US Treasuries  High Yield   Corp Bonds  Real Estate  \\\n",
       "0  Normal       0.0112          0.003        0.008      0.0046       0.0084   \n",
       "1   Crash      -0.0270          0.008       -0.016      0.0029      -0.0179   \n",
       "\n",
       "   Commodities  \n",
       "0       0.0061  \n",
       "1      -0.0080  "
      ]
     },
     "execution_count": 36,
     "metadata": {},
     "output_type": "execute_result"
    }
   ],
   "source": [
    "assets = ['US Equities', 'US Treasuries', 'High Yield ', 'Corp Bonds', 'Real Estate','Commodities']\n",
    "\n",
    "expectedAssetReturnsNormal = []\n",
    "expectedAssetReturnsCrash = []\n",
    "for asset in assets:\n",
    "    expectedAssetReturnsNormal.append(np.dot(dfNL['Expected Return'], dfNL[asset]))\n",
    "    expectedAssetReturnsCrash.append(np.dot(dfCL['Expected Return'], dfCL[asset]))\n",
    "\n",
    "dfProblem2 = pd.DataFrame(columns = ['Regime'] + (assets))\n",
    "dfProblem2.loc[0] = [\"Normal\"] + expectedAssetReturnsNormal\n",
    "dfProblem2.loc[1] = [\"Crash\"] + expectedAssetReturnsCrash\n",
    "print(\"Expected Asset Returns\")\n",
    "dfProblem2"
   ]
  },
  {
   "cell_type": "code",
   "execution_count": 37,
   "metadata": {},
   "outputs": [
    {
     "data": {
      "text/html": [
       "<div>\n",
       "<style scoped>\n",
       "    .dataframe tbody tr th:only-of-type {\n",
       "        vertical-align: middle;\n",
       "    }\n",
       "\n",
       "    .dataframe tbody tr th {\n",
       "        vertical-align: top;\n",
       "    }\n",
       "\n",
       "    .dataframe thead th {\n",
       "        text-align: right;\n",
       "    }\n",
       "</style>\n",
       "<table border=\"1\" class=\"dataframe\">\n",
       "  <thead>\n",
       "    <tr style=\"text-align: right;\">\n",
       "      <th></th>\n",
       "      <th>US Equities</th>\n",
       "      <th>US Treasuries</th>\n",
       "      <th>High Yield</th>\n",
       "      <th>Corp Bonds</th>\n",
       "      <th>Real Estate</th>\n",
       "      <th>Commodities</th>\n",
       "      <th>Regime</th>\n",
       "    </tr>\n",
       "  </thead>\n",
       "  <tbody>\n",
       "    <tr>\n",
       "      <th>US Equities</th>\n",
       "      <td>0.001279</td>\n",
       "      <td>0.000040</td>\n",
       "      <td>0.000340</td>\n",
       "      <td>0.000127</td>\n",
       "      <td>0.000729</td>\n",
       "      <td>0.000355</td>\n",
       "      <td>0.0</td>\n",
       "    </tr>\n",
       "    <tr>\n",
       "      <th>US Treasuries</th>\n",
       "      <td>0.000040</td>\n",
       "      <td>0.000166</td>\n",
       "      <td>0.000041</td>\n",
       "      <td>0.000157</td>\n",
       "      <td>0.000072</td>\n",
       "      <td>-0.000053</td>\n",
       "      <td>0.0</td>\n",
       "    </tr>\n",
       "    <tr>\n",
       "      <th>High Yield</th>\n",
       "      <td>0.000340</td>\n",
       "      <td>0.000041</td>\n",
       "      <td>0.000321</td>\n",
       "      <td>0.000134</td>\n",
       "      <td>0.000411</td>\n",
       "      <td>0.000153</td>\n",
       "      <td>0.0</td>\n",
       "    </tr>\n",
       "    <tr>\n",
       "      <th>Corp Bonds</th>\n",
       "      <td>0.000127</td>\n",
       "      <td>0.000157</td>\n",
       "      <td>0.000134</td>\n",
       "      <td>0.000210</td>\n",
       "      <td>0.000202</td>\n",
       "      <td>0.000008</td>\n",
       "      <td>0.0</td>\n",
       "    </tr>\n",
       "    <tr>\n",
       "      <th>Real Estate</th>\n",
       "      <td>0.000729</td>\n",
       "      <td>0.000072</td>\n",
       "      <td>0.000411</td>\n",
       "      <td>0.000202</td>\n",
       "      <td>0.001636</td>\n",
       "      <td>0.000111</td>\n",
       "      <td>0.0</td>\n",
       "    </tr>\n",
       "    <tr>\n",
       "      <th>Commodities</th>\n",
       "      <td>0.000355</td>\n",
       "      <td>-0.000053</td>\n",
       "      <td>0.000153</td>\n",
       "      <td>0.000008</td>\n",
       "      <td>0.000111</td>\n",
       "      <td>0.002799</td>\n",
       "      <td>0.0</td>\n",
       "    </tr>\n",
       "    <tr>\n",
       "      <th>Regime</th>\n",
       "      <td>0.000000</td>\n",
       "      <td>0.000000</td>\n",
       "      <td>0.000000</td>\n",
       "      <td>0.000000</td>\n",
       "      <td>0.000000</td>\n",
       "      <td>0.000000</td>\n",
       "      <td>0.0</td>\n",
       "    </tr>\n",
       "  </tbody>\n",
       "</table>\n",
       "</div>"
      ],
      "text/plain": [
       "               US Equities  US Treasuries  High Yield   Corp Bonds  \\\n",
       "US Equities       0.001279       0.000040     0.000340    0.000127   \n",
       "US Treasuries     0.000040       0.000166     0.000041    0.000157   \n",
       "High Yield        0.000340       0.000041     0.000321    0.000134   \n",
       "Corp Bonds        0.000127       0.000157     0.000134    0.000210   \n",
       "Real Estate       0.000729       0.000072     0.000411    0.000202   \n",
       "Commodities       0.000355      -0.000053     0.000153    0.000008   \n",
       "Regime            0.000000       0.000000     0.000000    0.000000   \n",
       "\n",
       "               Real Estate  Commodities  Regime  \n",
       "US Equities       0.000729     0.000355     0.0  \n",
       "US Treasuries     0.000072    -0.000053     0.0  \n",
       "High Yield        0.000411     0.000153     0.0  \n",
       "Corp Bonds        0.000202     0.000008     0.0  \n",
       "Real Estate       0.001636     0.000111     0.0  \n",
       "Commodities       0.000111     0.002799     0.0  \n",
       "Regime            0.000000     0.000000     0.0  "
      ]
     },
     "execution_count": 37,
     "metadata": {},
     "output_type": "execute_result"
    }
   ],
   "source": [
    "dfAssetsNormal.cov()"
   ]
  },
  {
   "cell_type": "code",
   "execution_count": 38,
   "metadata": {},
   "outputs": [
    {
     "data": {
      "text/html": [
       "<div>\n",
       "<style scoped>\n",
       "    .dataframe tbody tr th:only-of-type {\n",
       "        vertical-align: middle;\n",
       "    }\n",
       "\n",
       "    .dataframe tbody tr th {\n",
       "        vertical-align: top;\n",
       "    }\n",
       "\n",
       "    .dataframe thead th {\n",
       "        text-align: right;\n",
       "    }\n",
       "</style>\n",
       "<table border=\"1\" class=\"dataframe\">\n",
       "  <thead>\n",
       "    <tr style=\"text-align: right;\">\n",
       "      <th></th>\n",
       "      <th>US Equities</th>\n",
       "      <th>US Treasuries</th>\n",
       "      <th>High Yield</th>\n",
       "      <th>Corp Bonds</th>\n",
       "      <th>Real Estate</th>\n",
       "      <th>Commodities</th>\n",
       "      <th>Regime</th>\n",
       "    </tr>\n",
       "  </thead>\n",
       "  <tbody>\n",
       "    <tr>\n",
       "      <th>US Equities</th>\n",
       "      <td>0.004245</td>\n",
       "      <td>-0.000339</td>\n",
       "      <td>0.001721</td>\n",
       "      <td>0.000276</td>\n",
       "      <td>0.004916</td>\n",
       "      <td>0.001744</td>\n",
       "      <td>0.0</td>\n",
       "    </tr>\n",
       "    <tr>\n",
       "      <th>US Treasuries</th>\n",
       "      <td>-0.000339</td>\n",
       "      <td>0.000284</td>\n",
       "      <td>-0.000140</td>\n",
       "      <td>0.000197</td>\n",
       "      <td>-0.000205</td>\n",
       "      <td>-0.000250</td>\n",
       "      <td>0.0</td>\n",
       "    </tr>\n",
       "    <tr>\n",
       "      <th>High Yield</th>\n",
       "      <td>0.001721</td>\n",
       "      <td>-0.000140</td>\n",
       "      <td>0.001754</td>\n",
       "      <td>0.000466</td>\n",
       "      <td>0.002579</td>\n",
       "      <td>0.000905</td>\n",
       "      <td>0.0</td>\n",
       "    </tr>\n",
       "    <tr>\n",
       "      <th>Corp Bonds</th>\n",
       "      <td>0.000276</td>\n",
       "      <td>0.000197</td>\n",
       "      <td>0.000466</td>\n",
       "      <td>0.000470</td>\n",
       "      <td>0.000637</td>\n",
       "      <td>0.000317</td>\n",
       "      <td>0.0</td>\n",
       "    </tr>\n",
       "    <tr>\n",
       "      <th>Real Estate</th>\n",
       "      <td>0.004916</td>\n",
       "      <td>-0.000205</td>\n",
       "      <td>0.002579</td>\n",
       "      <td>0.000637</td>\n",
       "      <td>0.010590</td>\n",
       "      <td>0.002510</td>\n",
       "      <td>0.0</td>\n",
       "    </tr>\n",
       "    <tr>\n",
       "      <th>Commodities</th>\n",
       "      <td>0.001744</td>\n",
       "      <td>-0.000250</td>\n",
       "      <td>0.000905</td>\n",
       "      <td>0.000317</td>\n",
       "      <td>0.002510</td>\n",
       "      <td>0.007311</td>\n",
       "      <td>0.0</td>\n",
       "    </tr>\n",
       "    <tr>\n",
       "      <th>Regime</th>\n",
       "      <td>0.000000</td>\n",
       "      <td>0.000000</td>\n",
       "      <td>0.000000</td>\n",
       "      <td>0.000000</td>\n",
       "      <td>0.000000</td>\n",
       "      <td>0.000000</td>\n",
       "      <td>0.0</td>\n",
       "    </tr>\n",
       "  </tbody>\n",
       "</table>\n",
       "</div>"
      ],
      "text/plain": [
       "               US Equities  US Treasuries  High Yield   Corp Bonds  \\\n",
       "US Equities       0.004245      -0.000339     0.001721    0.000276   \n",
       "US Treasuries    -0.000339       0.000284    -0.000140    0.000197   \n",
       "High Yield        0.001721      -0.000140     0.001754    0.000466   \n",
       "Corp Bonds        0.000276       0.000197     0.000466    0.000470   \n",
       "Real Estate       0.004916      -0.000205     0.002579    0.000637   \n",
       "Commodities       0.001744      -0.000250     0.000905    0.000317   \n",
       "Regime            0.000000       0.000000     0.000000    0.000000   \n",
       "\n",
       "               Real Estate  Commodities  Regime  \n",
       "US Equities       0.004916     0.001744     0.0  \n",
       "US Treasuries    -0.000205    -0.000250     0.0  \n",
       "High Yield        0.002579     0.000905     0.0  \n",
       "Corp Bonds        0.000637     0.000317     0.0  \n",
       "Real Estate       0.010590     0.002510     0.0  \n",
       "Commodities       0.002510     0.007311     0.0  \n",
       "Regime            0.000000     0.000000     0.0  "
      ]
     },
     "execution_count": 38,
     "metadata": {},
     "output_type": "execute_result"
    }
   ],
   "source": [
    "dfAssetsCrash.cov()"
   ]
  },
  {
   "cell_type": "code",
   "execution_count": 39,
   "metadata": {
    "scrolled": true
   },
   "outputs": [
    {
     "data": {
      "text/html": [
       "<div>\n",
       "<style scoped>\n",
       "    .dataframe tbody tr th:only-of-type {\n",
       "        vertical-align: middle;\n",
       "    }\n",
       "\n",
       "    .dataframe tbody tr th {\n",
       "        vertical-align: top;\n",
       "    }\n",
       "\n",
       "    .dataframe thead th {\n",
       "        text-align: right;\n",
       "    }\n",
       "</style>\n",
       "<table border=\"1\" class=\"dataframe\">\n",
       "  <thead>\n",
       "    <tr style=\"text-align: right;\">\n",
       "      <th></th>\n",
       "      <th>Regime</th>\n",
       "      <th>US Equities</th>\n",
       "      <th>US Treasuries</th>\n",
       "      <th>High Yield</th>\n",
       "      <th>Corp Bonds</th>\n",
       "      <th>Real Estate</th>\n",
       "      <th>Commodities</th>\n",
       "    </tr>\n",
       "  </thead>\n",
       "  <tbody>\n",
       "    <tr>\n",
       "      <th>0</th>\n",
       "      <td>Normal</td>\n",
       "      <td>0.0112</td>\n",
       "      <td>0.003</td>\n",
       "      <td>0.008</td>\n",
       "      <td>0.0046</td>\n",
       "      <td>0.0084</td>\n",
       "      <td>0.0061</td>\n",
       "    </tr>\n",
       "    <tr>\n",
       "      <th>1</th>\n",
       "      <td>Crash</td>\n",
       "      <td>-0.0270</td>\n",
       "      <td>0.008</td>\n",
       "      <td>-0.016</td>\n",
       "      <td>0.0029</td>\n",
       "      <td>-0.0179</td>\n",
       "      <td>-0.0080</td>\n",
       "    </tr>\n",
       "  </tbody>\n",
       "</table>\n",
       "</div>"
      ],
      "text/plain": [
       "   Regime  US Equities  US Treasuries  High Yield   Corp Bonds  Real Estate  \\\n",
       "0  Normal       0.0112          0.003        0.008      0.0046       0.0084   \n",
       "1   Crash      -0.0270          0.008       -0.016      0.0029      -0.0179   \n",
       "\n",
       "   Commodities  \n",
       "0       0.0061  \n",
       "1      -0.0080  "
      ]
     },
     "execution_count": 39,
     "metadata": {},
     "output_type": "execute_result"
    }
   ],
   "source": [
    "dfProblem2"
   ]
  },
  {
   "cell_type": "code",
   "execution_count": 128,
   "metadata": {},
   "outputs": [],
   "source": [
    "scenarioList = []\n",
    "normalMeans = list(dfProblem2.iloc[0])[1:]\n",
    "normalCov = dfAssetsNormal.drop(['Regime'], axis=1).cov().values\n",
    "crashMeans = list(dfProblem2.iloc[1])[1:]\n",
    "crashCov = dfAssetsCrash.drop(['Regime'], axis=1).cov().values\n",
    "\n",
    "for scenario in range(10000):\n",
    "    regimeIsNormal = True\n",
    "    periodList = []\n",
    "    for period in range(12*50):\n",
    "        inflationVar = np.random.normal(1.022, 0.003)\n",
    "        inflationVar = inflationVar**(1/12) - 1\n",
    "        tempList = [inflationVar, inflationVar]\n",
    "        if regimeIsNormal: #Normal\n",
    "            periodList.append(list(np.random.multivariate_normal(normalMeans, normalCov))\n",
    "                                   + tempList + [int(regimeIsNormal)])\n",
    "        else: #Crash\n",
    "            periodList.append(list(np.random.multivariate_normal(crashMeans, crashCov))\n",
    "                                   + tempList + [regimeIsNormal - 1])     \n",
    "        # Regime transition\n",
    "        u = np.random.uniform()\n",
    "        if regimeIsNormal:\n",
    "            if (u > 0.98):\n",
    "                regimeIsNormal = not regimeIsNormal\n",
    "        else:\n",
    "            if (u < 0.125):\n",
    "                regimeIsNormal = not regimeIsNormal\n",
    "    scenarioList.append(periodList)\n",
    "\n",
    "#for data preservation of above\n",
    "with open('scenarioSimulationData_HW8.csv', mode='w') as file:\n",
    "    file.write(\"US Equity, US Treasuries, High Yield, Corp Bonds, Real Estate, Commodities, Inflation, Cash, Regime\\n\")\n",
    "    for periodList in scenarioList:\n",
    "        for period in periodList:\n",
    "            for i in range(8):\n",
    "                file.write(str(period[i]) + \",\")\n",
    "            file.write(str(period[8]) + \"\\n\")"
   ]
  },
  {
   "cell_type": "code",
   "execution_count": null,
   "metadata": {},
   "outputs": [],
   "source": [
    "########################################################################"
   ]
  },
  {
   "cell_type": "code",
   "execution_count": 3,
   "metadata": {},
   "outputs": [],
   "source": [
    "#Load in scenario simulations\n",
    "dfScenarios = pd.read_csv(r'C:\\Users\\Nick Kim\\Documents\\Nicholas Kim\\School\\School Semesters\\Fall 2019 Semester\\Risk Management\\HW8\\scenarioSImulationData_HW8.csv')"
   ]
  },
  {
   "cell_type": "code",
   "execution_count": 4,
   "metadata": {},
   "outputs": [],
   "source": [
    "dfScenarios.head()\n",
    "scenarioList = []\n",
    "periodList = []\n",
    "for i, row in enumerate(dfScenarios.values):\n",
    "    periodList.append((list(row)[0:-1]))\n",
    "    if ((i+1) % 600 == 0):\n",
    "        scenarioList.append(periodList)\n",
    "        periodList = []\n",
    "    if (len(scenarioList) > 100):\n",
    "        break"
   ]
  },
  {
   "cell_type": "code",
   "execution_count": 9,
   "metadata": {},
   "outputs": [
    {
     "data": {
      "text/plain": [
       "101"
      ]
     },
     "execution_count": 9,
     "metadata": {},
     "output_type": "execute_result"
    }
   ],
   "source": [
    "len(scenarioList)"
   ]
  },
  {
   "cell_type": "code",
   "execution_count": 175,
   "metadata": {},
   "outputs": [],
   "source": [
    "#simulated wealth path results for policy rules a,b,c.\n",
    "\n",
    "savingPercentage = 0.17\n",
    "retirementSpending = 0.60\n",
    "\n",
    "# last subarray is to store goals based on simulated salary\n",
    "year_67 = [[],[],[],[]]\n",
    "year_70 = [[],[],[],[]]\n",
    "\n",
    "portfolioDistA = [0.0,0.60,0.30,0.0,0.0,0.0,0.0,0.10]\n",
    "portfolioDistB = [0.60,0.40,0.0,0.0,0.0,0.0,0.0,0.0]\n",
    "portfolioDistC = [0.75,0.15,0.0,0.0,0.0,0.0,0.0,0.10]\n",
    "\n",
    "for index1, scenario in enumerate((scenarioList)):\n",
    "    salary = 0\n",
    "    wealthA = salary*savingPercentage\n",
    "    wealthB = salary*savingPercentage\n",
    "    wealthC = salary*savingPercentage\n",
    "    assetValuesA = [wealthA*x for x in portfolioDistA]\n",
    "    assetValuesB = [wealthB*x for x in portfolioDistB]\n",
    "    assetValuesC = [wealthC*x for x in portfolioDistC]\n",
    "    for index2, period in enumerate(scenario):\n",
    "        for i in range(8):\n",
    "            assetValuesA[i] *= 1+period[i]\n",
    "            assetValuesB[i] *= 1+period[i]\n",
    "            assetValuesC[i] *= 1+period[i]\n",
    "        wealthA = np.sum(assetValuesA)\n",
    "        wealthB = np.sum(assetValuesB)\n",
    "        wealthC = np.sum(assetValuesC)\n",
    "        if ((index2+1) % 12 == 0): # New year\n",
    "            wealthA += salary*savingPercentage\n",
    "            wealthB += salary*savingPercentage\n",
    "            wealthC += salary*savingPercentage\n",
    "            #Bogle balance\n",
    "            age = 25 + int((index2+1)/12)\n",
    "            xp = (100-age)/100.0\n",
    "            portfolioDistC = [xp,0.90-xp,0.0,0.0,0.0,0.0,0.0,0.10]\n",
    "        if (index2 == 59):\n",
    "            salary = 250000\n",
    "        if (index2 > 59):\n",
    "            salary *= 1+period[7]\n",
    "\n",
    "        for i in range(8):\n",
    "            assetValuesA[i] = wealthA*portfolioDistA[i]\n",
    "            assetValuesB[i] = wealthB*portfolioDistB[i]\n",
    "            assetValuesC[i] = wealthC*portfolioDistC[i]\n",
    "        if (index2 == 12*42-1): #67 years, life exp = 17\n",
    "            year_67[0].append(np.sum(assetValuesA))\n",
    "            year_67[1].append(np.sum(assetValuesB))\n",
    "            year_67[2].append(np.sum(assetValuesC))\n",
    "            year_67[3].append(expectedSavings(salary,17, retirementSpending))\n",
    "        if (index2 == 12*45-1): #70 years, life exp = 15\n",
    "            year_70[0].append(np.sum(assetValuesA))\n",
    "            year_70[1].append(np.sum(assetValuesB))\n",
    "            year_70[2].append(np.sum(assetValuesC))\n",
    "            year_70[3].append(expectedSavings(salary,15, retirementSpending))\n",
    "            \n",
    "    if index1 > 100:\n",
    "        break\n"
   ]
  },
  {
   "cell_type": "code",
   "execution_count": 176,
   "metadata": {},
   "outputs": [],
   "source": [
    "def Prob_Goal(list1, goalList):\n",
    "    counter = 0\n",
    "    for i in range(len(list1)):\n",
    "        if list1[i] >= goalList[i]:\n",
    "            counter += 1\n",
    "    return float(counter)/float(len(list1))\n",
    "\n",
    "def GaR(list1, goalList):\n",
    "    n = len(list1)\n",
    "    goalDiffs = []\n",
    "    for i in range(n):\n",
    "        goalDiffs.append(max(goalList[i]-list1[i],0))\n",
    "    goalDiffs.sort()\n",
    "    i = (int(n*0.95) - 1)\n",
    "    return goalDiffs[i]"
   ]
  },
  {
   "cell_type": "code",
   "execution_count": 177,
   "metadata": {},
   "outputs": [],
   "source": [
    "horizonCols = ['Data Type', '67 years', '70 years']\n",
    "df5a = pd.DataFrame(columns = horizonCols)\n",
    "df5b = pd.DataFrame(columns = horizonCols)\n",
    "df5c = pd.DataFrame(columns = horizonCols)\n",
    "dfList = [df5a, df5b, df5c]\n",
    "\n",
    "for i, dfTemp in enumerate(dfList):\n",
    "    meanRow = [\"Mean\", np.mean(year_67[i]), np.mean(year_70[i])]\n",
    "    varianceRow = [\"Variance\", np.var(year_67[i]), np.var(year_70[i])]\n",
    "    GaRRow = [\"GaR\", GaR(year_67[i], year_67[3]), GaR(year_70[i], year_70[3])]\n",
    "    ProbRow = [\"Probability to hit Goal\", Prob_Goal(year_67[i], year_67[3]), Prob_Goal(year_70[i], year_70[3])]\n",
    "    dfTemp.loc[0] = meanRow\n",
    "    dfTemp.loc[1] = varianceRow\n",
    "    dfTemp.loc[2] = GaRRow\n",
    "    dfTemp.loc[4] = ProbRow"
   ]
  },
  {
   "cell_type": "code",
   "execution_count": 178,
   "metadata": {},
   "outputs": [
    {
     "data": {
      "text/html": [
       "<div>\n",
       "<style scoped>\n",
       "    .dataframe tbody tr th:only-of-type {\n",
       "        vertical-align: middle;\n",
       "    }\n",
       "\n",
       "    .dataframe tbody tr th {\n",
       "        vertical-align: top;\n",
       "    }\n",
       "\n",
       "    .dataframe thead th {\n",
       "        text-align: right;\n",
       "    }\n",
       "</style>\n",
       "<table border=\"1\" class=\"dataframe\">\n",
       "  <thead>\n",
       "    <tr style=\"text-align: right;\">\n",
       "      <th></th>\n",
       "      <th>Data Type</th>\n",
       "      <th>67 years</th>\n",
       "      <th>70 years</th>\n",
       "    </tr>\n",
       "  </thead>\n",
       "  <tbody>\n",
       "    <tr>\n",
       "      <th>0</th>\n",
       "      <td>Mean</td>\n",
       "      <td>5.548687e+06</td>\n",
       "      <td>6.712391e+06</td>\n",
       "    </tr>\n",
       "    <tr>\n",
       "      <th>1</th>\n",
       "      <td>Variance</td>\n",
       "      <td>9.274668e+11</td>\n",
       "      <td>1.580885e+12</td>\n",
       "    </tr>\n",
       "    <tr>\n",
       "      <th>2</th>\n",
       "      <td>GaR</td>\n",
       "      <td>9.402507e+05</td>\n",
       "      <td>0.000000e+00</td>\n",
       "    </tr>\n",
       "    <tr>\n",
       "      <th>4</th>\n",
       "      <td>Probability to hit Goal</td>\n",
       "      <td>6.732673e-01</td>\n",
       "      <td>9.405941e-01</td>\n",
       "    </tr>\n",
       "  </tbody>\n",
       "</table>\n",
       "</div>"
      ],
      "text/plain": [
       "                 Data Type      67 years      70 years\n",
       "0                     Mean  5.548687e+06  6.712391e+06\n",
       "1                 Variance  9.274668e+11  1.580885e+12\n",
       "2                      GaR  9.402507e+05  0.000000e+00\n",
       "4  Probability to hit Goal  6.732673e-01  9.405941e-01"
      ]
     },
     "execution_count": 178,
     "metadata": {},
     "output_type": "execute_result"
    }
   ],
   "source": [
    "df5a"
   ]
  },
  {
   "cell_type": "code",
   "execution_count": 179,
   "metadata": {},
   "outputs": [
    {
     "data": {
      "text/html": [
       "<div>\n",
       "<style scoped>\n",
       "    .dataframe tbody tr th:only-of-type {\n",
       "        vertical-align: middle;\n",
       "    }\n",
       "\n",
       "    .dataframe tbody tr th {\n",
       "        vertical-align: top;\n",
       "    }\n",
       "\n",
       "    .dataframe thead th {\n",
       "        text-align: right;\n",
       "    }\n",
       "</style>\n",
       "<table border=\"1\" class=\"dataframe\">\n",
       "  <thead>\n",
       "    <tr style=\"text-align: right;\">\n",
       "      <th></th>\n",
       "      <th>Data Type</th>\n",
       "      <th>67 years</th>\n",
       "      <th>70 years</th>\n",
       "    </tr>\n",
       "  </thead>\n",
       "  <tbody>\n",
       "    <tr>\n",
       "      <th>0</th>\n",
       "      <td>Mean</td>\n",
       "      <td>7.537471e+06</td>\n",
       "      <td>9.513282e+06</td>\n",
       "    </tr>\n",
       "    <tr>\n",
       "      <th>1</th>\n",
       "      <td>Variance</td>\n",
       "      <td>1.083701e+13</td>\n",
       "      <td>2.048437e+13</td>\n",
       "    </tr>\n",
       "    <tr>\n",
       "      <th>2</th>\n",
       "      <td>GaR</td>\n",
       "      <td>1.606823e+06</td>\n",
       "      <td>8.929105e+05</td>\n",
       "    </tr>\n",
       "    <tr>\n",
       "      <th>4</th>\n",
       "      <td>Probability to hit Goal</td>\n",
       "      <td>7.326733e-01</td>\n",
       "      <td>8.514851e-01</td>\n",
       "    </tr>\n",
       "  </tbody>\n",
       "</table>\n",
       "</div>"
      ],
      "text/plain": [
       "                 Data Type      67 years      70 years\n",
       "0                     Mean  7.537471e+06  9.513282e+06\n",
       "1                 Variance  1.083701e+13  2.048437e+13\n",
       "2                      GaR  1.606823e+06  8.929105e+05\n",
       "4  Probability to hit Goal  7.326733e-01  8.514851e-01"
      ]
     },
     "execution_count": 179,
     "metadata": {},
     "output_type": "execute_result"
    }
   ],
   "source": [
    "df5b"
   ]
  },
  {
   "cell_type": "code",
   "execution_count": 180,
   "metadata": {},
   "outputs": [
    {
     "data": {
      "text/html": [
       "<div>\n",
       "<style scoped>\n",
       "    .dataframe tbody tr th:only-of-type {\n",
       "        vertical-align: middle;\n",
       "    }\n",
       "\n",
       "    .dataframe tbody tr th {\n",
       "        vertical-align: top;\n",
       "    }\n",
       "\n",
       "    .dataframe thead th {\n",
       "        text-align: right;\n",
       "    }\n",
       "</style>\n",
       "<table border=\"1\" class=\"dataframe\">\n",
       "  <thead>\n",
       "    <tr style=\"text-align: right;\">\n",
       "      <th></th>\n",
       "      <th>Data Type</th>\n",
       "      <th>67 years</th>\n",
       "      <th>70 years</th>\n",
       "    </tr>\n",
       "  </thead>\n",
       "  <tbody>\n",
       "    <tr>\n",
       "      <th>0</th>\n",
       "      <td>Mean</td>\n",
       "      <td>6.637932e+06</td>\n",
       "      <td>8.125486e+06</td>\n",
       "    </tr>\n",
       "    <tr>\n",
       "      <th>1</th>\n",
       "      <td>Variance</td>\n",
       "      <td>4.591239e+12</td>\n",
       "      <td>7.286497e+12</td>\n",
       "    </tr>\n",
       "    <tr>\n",
       "      <th>2</th>\n",
       "      <td>GaR</td>\n",
       "      <td>1.253523e+06</td>\n",
       "      <td>2.466928e+05</td>\n",
       "    </tr>\n",
       "    <tr>\n",
       "      <th>4</th>\n",
       "      <td>Probability to hit Goal</td>\n",
       "      <td>7.524752e-01</td>\n",
       "      <td>8.811881e-01</td>\n",
       "    </tr>\n",
       "  </tbody>\n",
       "</table>\n",
       "</div>"
      ],
      "text/plain": [
       "                 Data Type      67 years      70 years\n",
       "0                     Mean  6.637932e+06  8.125486e+06\n",
       "1                 Variance  4.591239e+12  7.286497e+12\n",
       "2                      GaR  1.253523e+06  2.466928e+05\n",
       "4  Probability to hit Goal  7.524752e-01  8.811881e-01"
      ]
     },
     "execution_count": 180,
     "metadata": {},
     "output_type": "execute_result"
    }
   ],
   "source": [
    "df5c"
   ]
  },
  {
   "cell_type": "code",
   "execution_count": null,
   "metadata": {},
   "outputs": [],
   "source": []
  },
  {
   "cell_type": "code",
   "execution_count": 183,
   "metadata": {},
   "outputs": [
    {
     "data": {
      "text/plain": [
       "7029884.531356411"
      ]
     },
     "execution_count": 183,
     "metadata": {},
     "output_type": "execute_result"
    }
   ],
   "source": [
    "sal2 = 0\n",
    "discountRate = 1.032\n",
    "presentValue = 0\n",
    "for i in range(60):\n",
    "    if (i <= 45):\n",
    "        if (i == 5):\n",
    "            sal2 = 250000/1.022\n",
    "        sal2 *= 1.022\n",
    "        presentValue += sal2*1/(discountRate**(i+1))\n",
    "    if (i >= 46):\n",
    "        presentValue += sal2*0.0/(discountRate**(i+1))\n",
    "presentValue"
   ]
  },
  {
   "cell_type": "code",
   "execution_count": 79,
   "metadata": {},
   "outputs": [],
   "source": [
    "sal2 = 0\n",
    "savingsRate = 0.30\n",
    "discountRate = 1.032\n",
    "totalUtilityValue = 0\n",
    "totalSavings = 0\n",
    "for i in range(60):\n",
    "    if (i <= 45):\n",
    "        if (i == 5):\n",
    "            sal2 = 250000/1.022\n",
    "        sal2 *= 1.022\n",
    "        if (sal2 != 0):\n",
    "            totalUtilityValue += log(sal2*(1-savingsRate))\n",
    "            totalSavings += sal2*savingsRate\n",
    "    \n",
    "retirementUtilityValue = 0\n",
    "for i in range(14):\n",
    "    retirementUtilityValue += log(totalSavings/14.0)"
   ]
  },
  {
   "cell_type": "code",
   "execution_count": 80,
   "metadata": {},
   "outputs": [
    {
     "name": "stdout",
     "output_type": "stream",
     "text": [
      "512.8186146299721 178.7508806104851\n",
      "691.5694952404572\n"
     ]
    }
   ],
   "source": [
    "print(totalUtilityValue, retirementUtilityValue)\n",
    "print(totalUtilityValue + retirementUtilityValue)"
   ]
  },
  {
   "cell_type": "code",
   "execution_count": 139,
   "metadata": {},
   "outputs": [],
   "source": [
    "res = []\n",
    "for n in range(10,40):\n",
    "    sal2 = 0\n",
    "    savingsRate = n*0.01\n",
    "    discountRate = 1.032\n",
    "    totalUtilityValue = 0\n",
    "    totalSavings = 0\n",
    "    for i in range(45):\n",
    "        if (i == 5):\n",
    "            sal2 = 250000/1.022\n",
    "        sal2 *= 1.022\n",
    "        if (sal2 != 0):\n",
    "            totalUtilityValue += log(sal2*(1-savingsRate))*(2-i/45)\n",
    "            totalSavings += sal2*savingsRate\n",
    "            totalSavings *= 1\n",
    "\n",
    "    retirementUtilityValue = 0\n",
    "    for i in range(14):\n",
    "        retirementUtilityValue += log(totalSavings/14.0)\n",
    "    res.append(totalUtilityValue + retirementUtilityValue)"
   ]
  },
  {
   "cell_type": "code",
   "execution_count": 140,
   "metadata": {},
   "outputs": [
    {
     "data": {
      "text/plain": [
       "[<matplotlib.lines.Line2D at 0x28538559c88>]"
      ]
     },
     "execution_count": 140,
     "metadata": {},
     "output_type": "execute_result"
    },
    {
     "data": {
      "image/png": "[encoded data removed]",
      "text/plain": [
       "<Figure size 432x288 with 1 Axes>"
      ]
     },
     "metadata": {
      "needs_background": "light"
     },
     "output_type": "display_data"
    }
   ],
   "source": [
    "plt.plot(res)"
   ]
  },
  {
   "cell_type": "code",
   "execution_count": 111,
   "metadata": {},
   "outputs": [
    {
     "data": {
      "text/plain": [
       "[902.5014734880301,\n",
       " 903.1852816149108,\n",
       " 903.7455556757589,\n",
       " 904.2007495152352,\n",
       " 904.5651643544803,\n",
       " 904.8500951290855,\n",
       " 905.0646060020077,\n",
       " 905.2160702509402,\n",
       " 905.3105554981496,\n",
       " 905.3531045383658,\n",
       " 905.3479439398753,\n",
       " 905.2986415853151,\n",
       " 905.208227414495,\n",
       " 905.0792871867075,\n",
       " 904.9140361506489,\n",
       " 904.7143775387092,\n",
       " 904.4819494501836,\n",
       " 904.218162744474,\n",
       " 903.9242318964946,\n",
       " 903.6012002855452,\n",
       " 903.2499610383619,\n",
       " 902.8712742884508,\n",
       " 902.4657815207787,\n",
       " 902.0340175252895,\n",
       " 901.5764203717163,\n",
       " 901.0933397327711,\n",
       " 900.5850438164332,\n",
       " 900.0517251160329,\n",
       " 899.4935051456794,\n",
       " 898.9104382956792]"
      ]
     },
     "execution_count": 111,
     "metadata": {},
     "output_type": "execute_result"
    }
   ],
   "source": [
    "res"
   ]
  },
  {
   "cell_type": "code",
   "execution_count": null,
   "metadata": {},
   "outputs": [],
   "source": []
  }
 ],
 "metadata": {
  "kernelspec": {
   "display_name": "Python 3",
   "language": "python",
   "name": "python3"
  },
  "language_info": {
   "codemirror_mode": {
    "name": "ipython",
    "version": 3
   },
   "file_extension": ".py",
   "mimetype": "text/x-python",
   "name": "python",
   "nbconvert_exporter": "python",
   "pygments_lexer": "ipython3",
   "version": "3.6.4"
  }
 },
 "nbformat": 4,
 "nbformat_minor": 2
}
