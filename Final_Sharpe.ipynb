{
 "cells": [
  {
   "cell_type": "code",
   "execution_count": 1,
   "metadata": {},
   "outputs": [],
   "source": [
    "#ORF 435, Final Sharpe Nicholas Kim\n",
    "import copy\n",
    "import numpy as np\n",
    "import pandas as pd\n",
    "import matplotlib.pyplot as plt\n",
    "\n",
    "from scipy.optimize import minimize\n",
    "from scipy.optimize import linprog\n",
    "#from cvxpy import *\n",
    "from math import log\n",
    "import matplotlib.pyplot as plt"
   ]
  },
  {
   "cell_type": "code",
   "execution_count": null,
   "metadata": {},
   "outputs": [],
   "source": [
    "#Problem 4\n",
    "means = [1.00565, 1.00279, 1.00407, 1.00166]\n",
    "returnGoal = 0.005\n",
    "def Var(x):\n",
    "    xT = np.transpose(x)\n",
    "    res = np.matmul(scenarioList1D[0:1000], xT)\n",
    "    return np.var(res)\n",
    "\n",
    "# Sum to 1\n",
    "def constraint1(x):\n",
    "    sum = 1\n",
    "    for i in range(4):\n",
    "        sum -= x[i]\n",
    "    return sum\n",
    "\n",
    "# Return constraint\n",
    "def constraint2(x):\n",
    "    E_X = 0\n",
    "    for i in range(4):\n",
    "        E_X += means[i]*x[i]\n",
    "    return E_X - (1+returnGoal)\n",
    "\n",
    "#x0=[1/7, 1/7, 1/7, 1/7] #starting point\n",
    "x0=[1,1,1,1]\n",
    "cons = ({'type':'eq','fun': constraint1}, {'type':'ineq','fun': constraint2})\n",
    "bnds = ((0,1),(0,1),(0,1),(0,1))\n",
    "\n",
    "rValues = []\n",
    "temp = 0.0035\n",
    "for i in range(20):\n",
    "    rValues.append(temp)\n",
    "    temp += 0.00025\n",
    "    if temp > 0.0055:\n",
    "        break\n",
    "\n",
    "stdList = []\n",
    "for ret in rValues:\n",
    "    returnGoal = ret\n",
    "    res=minimize(Var, x0,method= 'SLSQP', bounds=bnds, constraints=cons)\n",
    "    print(returnGoal)\n",
    "    print(res)\n",
    "    print(\"\")\n",
    "    stdList.append(res.fun**0.5)\n",
    "\n",
    "print(\"Standard Deviation:\")\n",
    "print(stdList)\n",
    "print(\"Returns:\")\n",
    "print(rValues)\n",
    "\n",
    "plt.plot(stdList, rValues)\n",
    "plt.xlabel(\"Standard Deviation\")\n",
    "plt.ylabel(\"Returns\")\n",
    "plt.title(\"Efficient Frontier (One Month)\")\n",
    "plt.show()"
   ]
  }
 ],
 "metadata": {
  "kernelspec": {
   "display_name": "Python 3",
   "language": "python",
   "name": "python3"
  },
  "language_info": {
   "codemirror_mode": {
    "name": "ipython",
    "version": 3
   },
   "file_extension": ".py",
   "mimetype": "text/x-python",
   "name": "python",
   "nbconvert_exporter": "python",
   "pygments_lexer": "ipython3",
   "version": "3.6.4"
  }
 },
 "nbformat": 4,
 "nbformat_minor": 2
}
