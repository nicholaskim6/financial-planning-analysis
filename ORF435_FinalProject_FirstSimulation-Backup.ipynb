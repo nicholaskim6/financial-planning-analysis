{
 "cells": [
  {
   "cell_type": "code",
   "execution_count": 3,
   "metadata": {},
   "outputs": [],
   "source": [
    "#ORF 435, Final Project Nicholas Kim\n",
    "import copy\n",
    "import numpy as np\n",
    "import pandas as pd\n",
    "import matplotlib.pyplot as plt\n",
    "\n",
    "from scipy.optimize import minimize\n",
    "from scipy.optimize import linprog\n",
    "#from cvxpy import *\n",
    "from math import log\n",
    "import matplotlib.pyplot as plt"
   ]
  },
  {
   "cell_type": "code",
   "execution_count": 2,
   "metadata": {},
   "outputs": [
    {
     "data": {
      "text/plain": [
       "5972470.470970963"
      ]
     },
     "execution_count": 2,
     "metadata": {},
     "output_type": "execute_result"
    }
   ],
   "source": [
    "#Problem 1\n",
    "salary=250000\n",
    "salary = salary * (1.022**(67-30))\n",
    "\n",
    "def expectedSavings(lastSalary, lifeExpectancy, percentSpending):\n",
    "    r = 1.032\n",
    "    spending = percentSpending*lastSalary\n",
    "    expectedSavings = 0\n",
    "    for i in range(0,lifeExpectancy):\n",
    "        val = spending/(r**(i+1))\n",
    "        expectedSavings += val\n",
    "        spending = spending * 1.022\n",
    "    return expectedSavings\n",
    "    \n",
    "expectedSavings(salary, 17, 0.70)"
   ]
  },
  {
   "cell_type": "code",
   "execution_count": 33,
   "metadata": {},
   "outputs": [],
   "source": [
    "#Problem 2\n",
    "def p2f(x):\n",
    "    if (type(x) == type(\"string\")):\n",
    "        if ('%' in x):\n",
    "            return float(x.strip('%'))/100\n",
    "        if (any(i.isdigit() for i in x)):\n",
    "            return float(x)\n",
    "    return x\n",
    "\n",
    "dfFactors = pd.read_csv(r'C:\\Users\\Nick Kim\\Documents\\Nicholas Kim\\School\\School Semesters\\Fall 2019 Semester\\Risk Management\\HW8\\HW8_factors.csv')\n",
    "dfAssets = pd.read_csv(r'C:\\Users\\Nick Kim\\Documents\\Nicholas Kim\\School\\School Semesters\\Fall 2019 Semester\\Risk Management\\HW8\\HW8_assets.csv')\n",
    "\n",
    "dfFactorsNormal = dfFactors[dfFactors['Regime'] == 1]\n",
    "dfFactorsCrash = dfFactors[dfFactors['Regime'] == -1]\n",
    "dfAssetsNormal = dfAssets[dfAssets['Regime'] == 1]\n",
    "dfAssetsCrash = dfAssets[dfAssets['Regime'] == -1]"
   ]
  },
  {
   "cell_type": "code",
   "execution_count": 34,
   "metadata": {},
   "outputs": [],
   "source": [
    "dfNL = pd.read_csv(r'C:\\Users\\Nick Kim\\Documents\\Nicholas Kim\\School\\School Semesters\\Fall 2019 Semester\\Risk Management\\HW8\\HW8_normalLoadings.csv')\n",
    "dfCL = pd.read_csv(r'C:\\Users\\Nick Kim\\Documents\\Nicholas Kim\\School\\School Semesters\\Fall 2019 Semester\\Risk Management\\HW8\\HW8_crashLoadings.csv')"
   ]
  },
  {
   "cell_type": "code",
   "execution_count": 35,
   "metadata": {},
   "outputs": [],
   "source": [
    "dfNL.drop(['Unnamed: 7'], axis = 1, inplace = True)\n",
    "dfNL.fillna(value = 0, inplace = True)\n",
    "dfNL = dfNL.applymap(p2f)\n",
    "dfNL['Expected Return'].iloc[0] = 1\n",
    "dfCL.drop(['Unnamed: 7'], axis = 1, inplace = True)\n",
    "dfCL.fillna(value = 0, inplace = True)\n",
    "dfCL = dfCL.applymap(p2f)\n",
    "dfCL['Expected Return'].iloc[0] = 1"
   ]
  },
  {
   "cell_type": "code",
   "execution_count": 36,
   "metadata": {},
   "outputs": [
    {
     "name": "stdout",
     "output_type": "stream",
     "text": [
      "Expected Asset Returns\n"
     ]
    },
    {
     "data": {
      "text/html": [
       "<div>\n",
       "<style scoped>\n",
       "    .dataframe tbody tr th:only-of-type {\n",
       "        vertical-align: middle;\n",
       "    }\n",
       "\n",
       "    .dataframe tbody tr th {\n",
       "        vertical-align: top;\n",
       "    }\n",
       "\n",
       "    .dataframe thead th {\n",
       "        text-align: right;\n",
       "    }\n",
       "</style>\n",
       "<table border=\"1\" class=\"dataframe\">\n",
       "  <thead>\n",
       "    <tr style=\"text-align: right;\">\n",
       "      <th></th>\n",
       "      <th>Regime</th>\n",
       "      <th>US Equities</th>\n",
       "      <th>US Treasuries</th>\n",
       "      <th>High Yield</th>\n",
       "      <th>Corp Bonds</th>\n",
       "      <th>Real Estate</th>\n",
       "      <th>Commodities</th>\n",
       "    </tr>\n",
       "  </thead>\n",
       "  <tbody>\n",
       "    <tr>\n",
       "      <th>0</th>\n",
       "      <td>Normal</td>\n",
       "      <td>0.0112</td>\n",
       "      <td>0.003</td>\n",
       "      <td>0.008</td>\n",
       "      <td>0.0046</td>\n",
       "      <td>0.0084</td>\n",
       "      <td>0.0061</td>\n",
       "    </tr>\n",
       "    <tr>\n",
       "      <th>1</th>\n",
       "      <td>Crash</td>\n",
       "      <td>-0.0270</td>\n",
       "      <td>0.008</td>\n",
       "      <td>-0.016</td>\n",
       "      <td>0.0029</td>\n",
       "      <td>-0.0179</td>\n",
       "      <td>-0.0080</td>\n",
       "    </tr>\n",
       "  </tbody>\n",
       "</table>\n",
       "</div>"
      ],
      "text/plain": [
       "   Regime  US Equities  US Treasuries  High Yield   Corp Bonds  Real Estate  \\\n",
       "0  Normal       0.0112          0.003        0.008      0.0046       0.0084   \n",
       "1   Crash      -0.0270          0.008       -0.016      0.0029      -0.0179   \n",
       "\n",
       "   Commodities  \n",
       "0       0.0061  \n",
       "1      -0.0080  "
      ]
     },
     "execution_count": 36,
     "metadata": {},
     "output_type": "execute_result"
    }
   ],
   "source": [
    "assets = ['US Equities', 'US Treasuries', 'High Yield ', 'Corp Bonds', 'Real Estate','Commodities']\n",
    "\n",
    "expectedAssetReturnsNormal = []\n",
    "expectedAssetReturnsCrash = []\n",
    "for asset in assets:\n",
    "    expectedAssetReturnsNormal.append(np.dot(dfNL['Expected Return'], dfNL[asset]))\n",
    "    expectedAssetReturnsCrash.append(np.dot(dfCL['Expected Return'], dfCL[asset]))\n",
    "\n",
    "dfProblem2 = pd.DataFrame(columns = ['Regime'] + (assets))\n",
    "dfProblem2.loc[0] = [\"Normal\"] + expectedAssetReturnsNormal\n",
    "dfProblem2.loc[1] = [\"Crash\"] + expectedAssetReturnsCrash\n",
    "print(\"Expected Asset Returns\")\n",
    "dfProblem2"
   ]
  },
  {
   "cell_type": "code",
   "execution_count": 37,
   "metadata": {},
   "outputs": [
    {
     "data": {
      "text/html": [
       "<div>\n",
       "<style scoped>\n",
       "    .dataframe tbody tr th:only-of-type {\n",
       "        vertical-align: middle;\n",
       "    }\n",
       "\n",
       "    .dataframe tbody tr th {\n",
       "        vertical-align: top;\n",
       "    }\n",
       "\n",
       "    .dataframe thead th {\n",
       "        text-align: right;\n",
       "    }\n",
       "</style>\n",
       "<table border=\"1\" class=\"dataframe\">\n",
       "  <thead>\n",
       "    <tr style=\"text-align: right;\">\n",
       "      <th></th>\n",
       "      <th>US Equities</th>\n",
       "      <th>US Treasuries</th>\n",
       "      <th>High Yield</th>\n",
       "      <th>Corp Bonds</th>\n",
       "      <th>Real Estate</th>\n",
       "      <th>Commodities</th>\n",
       "      <th>Regime</th>\n",
       "    </tr>\n",
       "  </thead>\n",
       "  <tbody>\n",
       "    <tr>\n",
       "      <th>US Equities</th>\n",
       "      <td>0.001279</td>\n",
       "      <td>0.000040</td>\n",
       "      <td>0.000340</td>\n",
       "      <td>0.000127</td>\n",
       "      <td>0.000729</td>\n",
       "      <td>0.000355</td>\n",
       "      <td>0.0</td>\n",
       "    </tr>\n",
       "    <tr>\n",
       "      <th>US Treasuries</th>\n",
       "      <td>0.000040</td>\n",
       "      <td>0.000166</td>\n",
       "      <td>0.000041</td>\n",
       "      <td>0.000157</td>\n",
       "      <td>0.000072</td>\n",
       "      <td>-0.000053</td>\n",
       "      <td>0.0</td>\n",
       "    </tr>\n",
       "    <tr>\n",
       "      <th>High Yield</th>\n",
       "      <td>0.000340</td>\n",
       "      <td>0.000041</td>\n",
       "      <td>0.000321</td>\n",
       "      <td>0.000134</td>\n",
       "      <td>0.000411</td>\n",
       "      <td>0.000153</td>\n",
       "      <td>0.0</td>\n",
       "    </tr>\n",
       "    <tr>\n",
       "      <th>Corp Bonds</th>\n",
       "      <td>0.000127</td>\n",
       "      <td>0.000157</td>\n",
       "      <td>0.000134</td>\n",
       "      <td>0.000210</td>\n",
       "      <td>0.000202</td>\n",
       "      <td>0.000008</td>\n",
       "      <td>0.0</td>\n",
       "    </tr>\n",
       "    <tr>\n",
       "      <th>Real Estate</th>\n",
       "      <td>0.000729</td>\n",
       "      <td>0.000072</td>\n",
       "      <td>0.000411</td>\n",
       "      <td>0.000202</td>\n",
       "      <td>0.001636</td>\n",
       "      <td>0.000111</td>\n",
       "      <td>0.0</td>\n",
       "    </tr>\n",
       "    <tr>\n",
       "      <th>Commodities</th>\n",
       "      <td>0.000355</td>\n",
       "      <td>-0.000053</td>\n",
       "      <td>0.000153</td>\n",
       "      <td>0.000008</td>\n",
       "      <td>0.000111</td>\n",
       "      <td>0.002799</td>\n",
       "      <td>0.0</td>\n",
       "    </tr>\n",
       "    <tr>\n",
       "      <th>Regime</th>\n",
       "      <td>0.000000</td>\n",
       "      <td>0.000000</td>\n",
       "      <td>0.000000</td>\n",
       "      <td>0.000000</td>\n",
       "      <td>0.000000</td>\n",
       "      <td>0.000000</td>\n",
       "      <td>0.0</td>\n",
       "    </tr>\n",
       "  </tbody>\n",
       "</table>\n",
       "</div>"
      ],
      "text/plain": [
       "               US Equities  US Treasuries  High Yield   Corp Bonds  \\\n",
       "US Equities       0.001279       0.000040     0.000340    0.000127   \n",
       "US Treasuries     0.000040       0.000166     0.000041    0.000157   \n",
       "High Yield        0.000340       0.000041     0.000321    0.000134   \n",
       "Corp Bonds        0.000127       0.000157     0.000134    0.000210   \n",
       "Real Estate       0.000729       0.000072     0.000411    0.000202   \n",
       "Commodities       0.000355      -0.000053     0.000153    0.000008   \n",
       "Regime            0.000000       0.000000     0.000000    0.000000   \n",
       "\n",
       "               Real Estate  Commodities  Regime  \n",
       "US Equities       0.000729     0.000355     0.0  \n",
       "US Treasuries     0.000072    -0.000053     0.0  \n",
       "High Yield        0.000411     0.000153     0.0  \n",
       "Corp Bonds        0.000202     0.000008     0.0  \n",
       "Real Estate       0.001636     0.000111     0.0  \n",
       "Commodities       0.000111     0.002799     0.0  \n",
       "Regime            0.000000     0.000000     0.0  "
      ]
     },
     "execution_count": 37,
     "metadata": {},
     "output_type": "execute_result"
    }
   ],
   "source": [
    "dfAssetsNormal.cov()"
   ]
  },
  {
   "cell_type": "code",
   "execution_count": 38,
   "metadata": {},
   "outputs": [
    {
     "data": {
      "text/html": [
       "<div>\n",
       "<style scoped>\n",
       "    .dataframe tbody tr th:only-of-type {\n",
       "        vertical-align: middle;\n",
       "    }\n",
       "\n",
       "    .dataframe tbody tr th {\n",
       "        vertical-align: top;\n",
       "    }\n",
       "\n",
       "    .dataframe thead th {\n",
       "        text-align: right;\n",
       "    }\n",
       "</style>\n",
       "<table border=\"1\" class=\"dataframe\">\n",
       "  <thead>\n",
       "    <tr style=\"text-align: right;\">\n",
       "      <th></th>\n",
       "      <th>US Equities</th>\n",
       "      <th>US Treasuries</th>\n",
       "      <th>High Yield</th>\n",
       "      <th>Corp Bonds</th>\n",
       "      <th>Real Estate</th>\n",
       "      <th>Commodities</th>\n",
       "      <th>Regime</th>\n",
       "    </tr>\n",
       "  </thead>\n",
       "  <tbody>\n",
       "    <tr>\n",
       "      <th>US Equities</th>\n",
       "      <td>0.004245</td>\n",
       "      <td>-0.000339</td>\n",
       "      <td>0.001721</td>\n",
       "      <td>0.000276</td>\n",
       "      <td>0.004916</td>\n",
       "      <td>0.001744</td>\n",
       "      <td>0.0</td>\n",
       "    </tr>\n",
       "    <tr>\n",
       "      <th>US Treasuries</th>\n",
       "      <td>-0.000339</td>\n",
       "      <td>0.000284</td>\n",
       "      <td>-0.000140</td>\n",
       "      <td>0.000197</td>\n",
       "      <td>-0.000205</td>\n",
       "      <td>-0.000250</td>\n",
       "      <td>0.0</td>\n",
       "    </tr>\n",
       "    <tr>\n",
       "      <th>High Yield</th>\n",
       "      <td>0.001721</td>\n",
       "      <td>-0.000140</td>\n",
       "      <td>0.001754</td>\n",
       "      <td>0.000466</td>\n",
       "      <td>0.002579</td>\n",
       "      <td>0.000905</td>\n",
       "      <td>0.0</td>\n",
       "    </tr>\n",
       "    <tr>\n",
       "      <th>Corp Bonds</th>\n",
       "      <td>0.000276</td>\n",
       "      <td>0.000197</td>\n",
       "      <td>0.000466</td>\n",
       "      <td>0.000470</td>\n",
       "      <td>0.000637</td>\n",
       "      <td>0.000317</td>\n",
       "      <td>0.0</td>\n",
       "    </tr>\n",
       "    <tr>\n",
       "      <th>Real Estate</th>\n",
       "      <td>0.004916</td>\n",
       "      <td>-0.000205</td>\n",
       "      <td>0.002579</td>\n",
       "      <td>0.000637</td>\n",
       "      <td>0.010590</td>\n",
       "      <td>0.002510</td>\n",
       "      <td>0.0</td>\n",
       "    </tr>\n",
       "    <tr>\n",
       "      <th>Commodities</th>\n",
       "      <td>0.001744</td>\n",
       "      <td>-0.000250</td>\n",
       "      <td>0.000905</td>\n",
       "      <td>0.000317</td>\n",
       "      <td>0.002510</td>\n",
       "      <td>0.007311</td>\n",
       "      <td>0.0</td>\n",
       "    </tr>\n",
       "    <tr>\n",
       "      <th>Regime</th>\n",
       "      <td>0.000000</td>\n",
       "      <td>0.000000</td>\n",
       "      <td>0.000000</td>\n",
       "      <td>0.000000</td>\n",
       "      <td>0.000000</td>\n",
       "      <td>0.000000</td>\n",
       "      <td>0.0</td>\n",
       "    </tr>\n",
       "  </tbody>\n",
       "</table>\n",
       "</div>"
      ],
      "text/plain": [
       "               US Equities  US Treasuries  High Yield   Corp Bonds  \\\n",
       "US Equities       0.004245      -0.000339     0.001721    0.000276   \n",
       "US Treasuries    -0.000339       0.000284    -0.000140    0.000197   \n",
       "High Yield        0.001721      -0.000140     0.001754    0.000466   \n",
       "Corp Bonds        0.000276       0.000197     0.000466    0.000470   \n",
       "Real Estate       0.004916      -0.000205     0.002579    0.000637   \n",
       "Commodities       0.001744      -0.000250     0.000905    0.000317   \n",
       "Regime            0.000000       0.000000     0.000000    0.000000   \n",
       "\n",
       "               Real Estate  Commodities  Regime  \n",
       "US Equities       0.004916     0.001744     0.0  \n",
       "US Treasuries    -0.000205    -0.000250     0.0  \n",
       "High Yield        0.002579     0.000905     0.0  \n",
       "Corp Bonds        0.000637     0.000317     0.0  \n",
       "Real Estate       0.010590     0.002510     0.0  \n",
       "Commodities       0.002510     0.007311     0.0  \n",
       "Regime            0.000000     0.000000     0.0  "
      ]
     },
     "execution_count": 38,
     "metadata": {},
     "output_type": "execute_result"
    }
   ],
   "source": [
    "dfAssetsCrash.cov()"
   ]
  },
  {
   "cell_type": "code",
   "execution_count": 39,
   "metadata": {
    "scrolled": true
   },
   "outputs": [
    {
     "data": {
      "text/html": [
       "<div>\n",
       "<style scoped>\n",
       "    .dataframe tbody tr th:only-of-type {\n",
       "        vertical-align: middle;\n",
       "    }\n",
       "\n",
       "    .dataframe tbody tr th {\n",
       "        vertical-align: top;\n",
       "    }\n",
       "\n",
       "    .dataframe thead th {\n",
       "        text-align: right;\n",
       "    }\n",
       "</style>\n",
       "<table border=\"1\" class=\"dataframe\">\n",
       "  <thead>\n",
       "    <tr style=\"text-align: right;\">\n",
       "      <th></th>\n",
       "      <th>Regime</th>\n",
       "      <th>US Equities</th>\n",
       "      <th>US Treasuries</th>\n",
       "      <th>High Yield</th>\n",
       "      <th>Corp Bonds</th>\n",
       "      <th>Real Estate</th>\n",
       "      <th>Commodities</th>\n",
       "    </tr>\n",
       "  </thead>\n",
       "  <tbody>\n",
       "    <tr>\n",
       "      <th>0</th>\n",
       "      <td>Normal</td>\n",
       "      <td>0.0112</td>\n",
       "      <td>0.003</td>\n",
       "      <td>0.008</td>\n",
       "      <td>0.0046</td>\n",
       "      <td>0.0084</td>\n",
       "      <td>0.0061</td>\n",
       "    </tr>\n",
       "    <tr>\n",
       "      <th>1</th>\n",
       "      <td>Crash</td>\n",
       "      <td>-0.0270</td>\n",
       "      <td>0.008</td>\n",
       "      <td>-0.016</td>\n",
       "      <td>0.0029</td>\n",
       "      <td>-0.0179</td>\n",
       "      <td>-0.0080</td>\n",
       "    </tr>\n",
       "  </tbody>\n",
       "</table>\n",
       "</div>"
      ],
      "text/plain": [
       "   Regime  US Equities  US Treasuries  High Yield   Corp Bonds  Real Estate  \\\n",
       "0  Normal       0.0112          0.003        0.008      0.0046       0.0084   \n",
       "1   Crash      -0.0270          0.008       -0.016      0.0029      -0.0179   \n",
       "\n",
       "   Commodities  \n",
       "0       0.0061  \n",
       "1      -0.0080  "
      ]
     },
     "execution_count": 39,
     "metadata": {},
     "output_type": "execute_result"
    }
   ],
   "source": [
    "dfProblem2"
   ]
  },
  {
   "cell_type": "code",
   "execution_count": 128,
   "metadata": {},
   "outputs": [],
   "source": [
    "scenarioList = []\n",
    "normalMeans = list(dfProblem2.iloc[0])[1:]\n",
    "normalCov = dfAssetsNormal.drop(['Regime'], axis=1).cov().values\n",
    "crashMeans = list(dfProblem2.iloc[1])[1:]\n",
    "crashCov = dfAssetsCrash.drop(['Regime'], axis=1).cov().values\n",
    "\n",
    "for scenario in range(10000):\n",
    "    regimeIsNormal = True\n",
    "    periodList = []\n",
    "    for period in range(12*50):\n",
    "        inflationVar = np.random.normal(1.022, 0.003)\n",
    "        inflationVar = inflationVar**(1/12) - 1\n",
    "        tempList = [inflationVar, inflationVar]\n",
    "        if regimeIsNormal: #Normal\n",
    "            periodList.append(list(np.random.multivariate_normal(normalMeans, normalCov))\n",
    "                                   + tempList + [int(regimeIsNormal)])\n",
    "        else: #Crash\n",
    "            periodList.append(list(np.random.multivariate_normal(crashMeans, crashCov))\n",
    "                                   + tempList + [regimeIsNormal - 1])     \n",
    "        # Regime transition\n",
    "        u = np.random.uniform()\n",
    "        if regimeIsNormal:\n",
    "            if (u > 0.98):\n",
    "                regimeIsNormal = not regimeIsNormal\n",
    "        else:\n",
    "            if (u < 0.125):\n",
    "                regimeIsNormal = not regimeIsNormal\n",
    "    scenarioList.append(periodList)\n",
    "\n",
    "#for data preservation of above\n",
    "with open('scenarioSimulationData_HW8.csv', mode='w') as file:\n",
    "    file.write(\"US Equity, US Treasuries, High Yield, Corp Bonds, Real Estate, Commodities, Inflation, Cash, Regime\\n\")\n",
    "    for periodList in scenarioList:\n",
    "        for period in periodList:\n",
    "            for i in range(8):\n",
    "                file.write(str(period[i]) + \",\")\n",
    "            file.write(str(period[8]) + \"\\n\")"
   ]
  },
  {
   "cell_type": "code",
   "execution_count": null,
   "metadata": {},
   "outputs": [],
   "source": [
    "########################################################################"
   ]
  },
  {
   "cell_type": "code",
   "execution_count": 3,
   "metadata": {},
   "outputs": [],
   "source": [
    "#Load in scenario simulations\n",
    "dfScenarios = pd.read_csv(r'C:\\Users\\Nick Kim\\Documents\\Nicholas Kim\\School\\School Semesters\\Fall 2019 Semester\\Risk Management\\HW8\\scenarioSImulationData_HW8.csv')"
   ]
  },
  {
   "cell_type": "code",
   "execution_count": 12,
   "metadata": {},
   "outputs": [
    {
     "data": {
      "text/plain": [
       "6000000"
      ]
     },
     "execution_count": 12,
     "metadata": {},
     "output_type": "execute_result"
    }
   ],
   "source": [
    "len(dfScenarios.values)"
   ]
  },
  {
   "cell_type": "code",
   "execution_count": 13,
   "metadata": {},
   "outputs": [],
   "source": [
    "dfScenarios.head()\n",
    "scenarioList = []\n",
    "periodList = []\n",
    "for i, row in enumerate(dfScenarios.values):\n",
    "    periodList.append((list(row)[0:-1]))\n",
    "    if ((i+1) % 600 == 0):\n",
    "        scenarioList.append(periodList)\n",
    "        periodList = []\n",
    "    if (len(scenarioList) > 2000):\n",
    "        break"
   ]
  },
  {
   "cell_type": "code",
   "execution_count": 143,
   "metadata": {},
   "outputs": [
    {
     "data": {
      "text/plain": [
       "101"
      ]
     },
     "execution_count": 143,
     "metadata": {},
     "output_type": "execute_result"
    }
   ],
   "source": [
    "len(scenarioList)"
   ]
  },
  {
   "cell_type": "code",
   "execution_count": 5,
   "metadata": {},
   "outputs": [
    {
     "ename": "NameError",
     "evalue": "name 'scenarioList' is not defined",
     "output_type": "error",
     "traceback": [
      "\u001b[1;31m---------------------------------------------------------------------------\u001b[0m",
      "\u001b[1;31mNameError\u001b[0m                                 Traceback (most recent call last)",
      "\u001b[1;32m<ipython-input-5-ee637e295b41>\u001b[0m in \u001b[0;36m<module>\u001b[1;34m\u001b[0m\n\u001b[0;32m     14\u001b[0m \u001b[0mportfolioDistC\u001b[0m \u001b[1;33m=\u001b[0m \u001b[1;33m[\u001b[0m\u001b[1;36m0.75\u001b[0m\u001b[1;33m,\u001b[0m\u001b[1;36m0.15\u001b[0m\u001b[1;33m,\u001b[0m\u001b[1;36m0.0\u001b[0m\u001b[1;33m,\u001b[0m\u001b[1;36m0.0\u001b[0m\u001b[1;33m,\u001b[0m\u001b[1;36m0.0\u001b[0m\u001b[1;33m,\u001b[0m\u001b[1;36m0.0\u001b[0m\u001b[1;33m,\u001b[0m\u001b[1;36m0.0\u001b[0m\u001b[1;33m,\u001b[0m\u001b[1;36m0.10\u001b[0m\u001b[1;33m]\u001b[0m\u001b[1;33m\u001b[0m\u001b[0m\n\u001b[0;32m     15\u001b[0m \u001b[1;33m\u001b[0m\u001b[0m\n\u001b[1;32m---> 16\u001b[1;33m \u001b[1;32mfor\u001b[0m \u001b[0mindex1\u001b[0m\u001b[1;33m,\u001b[0m \u001b[0mscenario\u001b[0m \u001b[1;32min\u001b[0m \u001b[0menumerate\u001b[0m\u001b[1;33m(\u001b[0m\u001b[1;33m(\u001b[0m\u001b[0mscenarioList\u001b[0m\u001b[1;33m)\u001b[0m\u001b[1;33m)\u001b[0m\u001b[1;33m:\u001b[0m\u001b[1;33m\u001b[0m\u001b[0m\n\u001b[0m\u001b[0;32m     17\u001b[0m     \u001b[0mtotal_utility\u001b[0m \u001b[1;33m=\u001b[0m \u001b[1;36m0\u001b[0m\u001b[1;33m\u001b[0m\u001b[0m\n\u001b[0;32m     18\u001b[0m     \u001b[0msalary\u001b[0m \u001b[1;33m=\u001b[0m \u001b[1;36m0\u001b[0m\u001b[1;33m\u001b[0m\u001b[0m\n",
      "\u001b[1;31mNameError\u001b[0m: name 'scenarioList' is not defined"
     ]
    }
   ],
   "source": [
    "#simulated wealth path results for policy rules a,b,c.\n",
    "\n",
    "savingPercentage = 0.20\n",
    "retirementSpending = 0.60\n",
    "\n",
    "# 3rd last subarray is to store goals based on simulated salary\n",
    "# 4th subarray is for final salary\n",
    "# 5th subarray is for total utility\n",
    "year_67 = [[],[],[],[],[],[]]\n",
    "year_70 = [[],[],[],[],[],[]]\n",
    "\n",
    "portfolioDistA = [0.00634255, 0.29119359, 0.14390424, 0.23731545, 0.0, 0.00577487, 0.0, 0.3154693]\n",
    "portfolioDistB = [0.60,0.40,0.0,0.0,0.0,0.0,0.0,0.0] #change to my conservative recommendation\n",
    "portfolioDistC = [0.75,0.15,0.0,0.0,0.0,0.0,0.0,0.10]\n",
    "\n",
    "for index1, scenario in enumerate((scenarioList)):\n",
    "    total_utility = 0\n",
    "    salary = 0\n",
    "    wealthA = salary*savingPercentage\n",
    "    wealthB = salary*savingPercentage\n",
    "    wealthC = salary*savingPercentage\n",
    "    assetValuesA = [wealthA*x for x in portfolioDistA]\n",
    "    assetValuesB = [wealthB*x for x in portfolioDistB]\n",
    "    assetValuesC = [wealthC*x for x in portfolioDistC]\n",
    "    for index2, period in enumerate(scenario):\n",
    "        for i in range(8):\n",
    "            assetValuesA[i] *= 1+period[i]\n",
    "            assetValuesB[i] *= 1+period[i]\n",
    "            assetValuesC[i] *= 1+period[i]\n",
    "        wealthA = np.sum(assetValuesA)\n",
    "        wealthB = np.sum(assetValuesB)\n",
    "        wealthC = np.sum(assetValuesC)\n",
    "        if ((index2+1) % 12 == 0): # New year\n",
    "            wealthA += salary*savingPercentage\n",
    "            wealthB += salary*savingPercentage\n",
    "            wealthC += salary*savingPercentage\n",
    "            #Bogle balance\n",
    "            age = 25 + int((index2+1)/12)\n",
    "            xp = (100-age)/100.0\n",
    "            portfolioDistC = [xp,0.90-xp,0.0,0.0,0.0,0.0,0.0,0.10]\n",
    "            if (index2 > 59):\n",
    "                total_utility += log(salary*(1-savingPercentage))*(2-i/len(scenario)) #*some scaling multiplier\n",
    "        if (index2 == 59):\n",
    "            salary = 250000\n",
    "        if (index2 > 59):\n",
    "            salary *= 1+period[7]\n",
    "\n",
    "        for i in range(8):\n",
    "            assetValuesA[i] = wealthA*portfolioDistA[i]\n",
    "            assetValuesB[i] = wealthB*portfolioDistB[i]\n",
    "            assetValuesC[i] = wealthC*portfolioDistC[i]\n",
    "        if (index2 == 12*42-1): #67 years, life exp = 17\n",
    "            year_67[0].append(np.sum(assetValuesA))\n",
    "            year_67[1].append(np.sum(assetValuesB))\n",
    "            year_67[2].append(np.sum(assetValuesC))\n",
    "            year_67[3].append(expectedSavings(salary,17, retirementSpending))\n",
    "            year_67[4].append(salary)\n",
    "            year_67[5].append(total_utility)\n",
    "        if (index2 == 12*45-1): #70 years, life exp = 15\n",
    "            year_70[0].append(np.sum(assetValuesA))\n",
    "            year_70[1].append(np.sum(assetValuesB))\n",
    "            year_70[2].append(np.sum(assetValuesC))\n",
    "            year_70[3].append(expectedSavings(salary,15, retirementSpending))\n",
    "            year_70[4].append(salary)\n",
    "            year_70[5].append(total_utility)\n",
    "            \n",
    "    if index1 > 10:\n",
    "        break\n"
   ]
  },
  {
   "cell_type": "code",
   "execution_count": 138,
   "metadata": {},
   "outputs": [
    {
     "data": {
      "text/plain": [
       "506.0204095603192"
      ]
     },
     "execution_count": 138,
     "metadata": {},
     "output_type": "execute_result"
    }
   ],
   "source": [
    "np.mean(year_70[5])"
   ]
  },
  {
   "cell_type": "code",
   "execution_count": 92,
   "metadata": {},
   "outputs": [
    {
     "data": {
      "text/plain": [
       "0.1471755943019317"
      ]
     },
     "execution_count": 92,
     "metadata": {},
     "output_type": "execute_result"
    }
   ],
   "source": [
    "possible_spending(1000000, 500000, 15)"
   ]
  },
  {
   "cell_type": "code",
   "execution_count": 94,
   "metadata": {},
   "outputs": [
    {
     "data": {
      "text/plain": [
       "1000165.8270733269"
      ]
     },
     "execution_count": 94,
     "metadata": {},
     "output_type": "execute_result"
    }
   ],
   "source": [
    "expectedSavings(500000, 15, 0.1472)"
   ]
  },
  {
   "cell_type": "code",
   "execution_count": 184,
   "metadata": {},
   "outputs": [],
   "source": [
    "def possible_spending(savings, salary, years):\n",
    "    r = 1.032\n",
    "    discountSum = 0\n",
    "    for i in range(1, years + 1):\n",
    "        discountSum += 1.022**(i-1)/r**i\n",
    "    x = savings/discountSum\n",
    "    \n",
    "    logUtil = 0\n",
    "    for i in range(1, years + 1):\n",
    "        logUtil += np.log(x*1.022**(i-1))\n",
    "    return x/salary, logUtil\n",
    "        \n",
    "def avg_possible_spending(savingsList, salary, years):\n",
    "    results = []\n",
    "    for val in savingsList:\n",
    "        results.append(possible_spending(val, salary, years)[0])\n",
    "    return np.mean(results)\n",
    "\n",
    "def avg_postret_util(savingsList, salary, years):\n",
    "    results = []\n",
    "    for val in savingsList:\n",
    "        results.append(possible_spending(val, salary, years)[1])\n",
    "    return np.mean(results)\n",
    "\n",
    "def Prob_Goal(list1, goalList):\n",
    "    counter = 0\n",
    "    for i in range(len(list1)):\n",
    "        if list1[i] >= goalList[i]:\n",
    "            counter += 1\n",
    "    return float(counter)/float(len(list1))\n",
    "\n",
    "def GaR(list1, goalList):\n",
    "    n = len(list1)\n",
    "    goalDiffs = []\n",
    "    for i in range(n):\n",
    "        goalDiffs.append(max(goalList[i]-list1[i],0))\n",
    "    goalDiffs.sort()\n",
    "    i = (int(n*0.95) - 1)\n",
    "    return goalDiffs[i]\n",
    "\n",
    "def CGaR(list1, goalList):\n",
    "    n = len(list1)\n",
    "    goalDiffs = []\n",
    "    for i in range(n):\n",
    "        goalDiffs.append(max(goalList[i]-list1[i],0))\n",
    "    goalDiffs.sort()\n",
    "    i = (int(n*0.95) - 1)\n",
    "    return np.mean(goalDiffs[i:len(goalDiffs)])\n",
    "\n",
    "def Downside_Risk(list1, goalList):\n",
    "    n = len(list1)\n",
    "    goalDiffs = []\n",
    "    for i in range(n):\n",
    "        if (goalList[i]-list1[i] > 0):\n",
    "            goalDiffs.append((goalList[i]-list1[i]))\n",
    "    return np.mean(goalDiffs)"
   ]
  },
  {
   "cell_type": "code",
   "execution_count": 2,
   "metadata": {},
   "outputs": [
    {
     "ename": "NameError",
     "evalue": "name 'pd' is not defined",
     "output_type": "error",
     "traceback": [
      "\u001b[1;31m---------------------------------------------------------------------------\u001b[0m",
      "\u001b[1;31mNameError\u001b[0m                                 Traceback (most recent call last)",
      "\u001b[1;32m<ipython-input-2-8879b733bdc6>\u001b[0m in \u001b[0;36m<module>\u001b[1;34m\u001b[0m\n\u001b[0;32m      1\u001b[0m \u001b[0mhorizonCols\u001b[0m \u001b[1;33m=\u001b[0m \u001b[1;33m[\u001b[0m\u001b[1;34m'Data Type'\u001b[0m\u001b[1;33m,\u001b[0m \u001b[1;34m'67 years'\u001b[0m\u001b[1;33m,\u001b[0m \u001b[1;34m'70 years'\u001b[0m\u001b[1;33m]\u001b[0m\u001b[1;33m\u001b[0m\u001b[0m\n\u001b[1;32m----> 2\u001b[1;33m \u001b[0mdf5a\u001b[0m \u001b[1;33m=\u001b[0m \u001b[0mpd\u001b[0m\u001b[1;33m.\u001b[0m\u001b[0mDataFrame\u001b[0m\u001b[1;33m(\u001b[0m\u001b[0mcolumns\u001b[0m \u001b[1;33m=\u001b[0m \u001b[0mhorizonCols\u001b[0m\u001b[1;33m)\u001b[0m\u001b[1;33m\u001b[0m\u001b[0m\n\u001b[0m\u001b[0;32m      3\u001b[0m \u001b[0mdf5b\u001b[0m \u001b[1;33m=\u001b[0m \u001b[0mpd\u001b[0m\u001b[1;33m.\u001b[0m\u001b[0mDataFrame\u001b[0m\u001b[1;33m(\u001b[0m\u001b[0mcolumns\u001b[0m \u001b[1;33m=\u001b[0m \u001b[0mhorizonCols\u001b[0m\u001b[1;33m)\u001b[0m\u001b[1;33m\u001b[0m\u001b[0m\n\u001b[0;32m      4\u001b[0m \u001b[0mdf5c\u001b[0m \u001b[1;33m=\u001b[0m \u001b[0mpd\u001b[0m\u001b[1;33m.\u001b[0m\u001b[0mDataFrame\u001b[0m\u001b[1;33m(\u001b[0m\u001b[0mcolumns\u001b[0m \u001b[1;33m=\u001b[0m \u001b[0mhorizonCols\u001b[0m\u001b[1;33m)\u001b[0m\u001b[1;33m\u001b[0m\u001b[0m\n\u001b[0;32m      5\u001b[0m \u001b[0mdfList\u001b[0m \u001b[1;33m=\u001b[0m \u001b[1;33m[\u001b[0m\u001b[0mdf5a\u001b[0m\u001b[1;33m,\u001b[0m \u001b[0mdf5b\u001b[0m\u001b[1;33m,\u001b[0m \u001b[0mdf5c\u001b[0m\u001b[1;33m]\u001b[0m\u001b[1;33m\u001b[0m\u001b[0m\n",
      "\u001b[1;31mNameError\u001b[0m: name 'pd' is not defined"
     ]
    }
   ],
   "source": [
    "horizonCols = ['Data Type', '67 years', '70 years']\n",
    "df5a = pd.DataFrame(columns = horizonCols)\n",
    "df5b = pd.DataFrame(columns = horizonCols)\n",
    "df5c = pd.DataFrame(columns = horizonCols)\n",
    "dfList = [df5a, df5b, df5c]\n",
    "savingsAmount = savingPercentage\n",
    "\n",
    "for i, dfTemp in enumerate(dfList):\n",
    "    ProbRow = [\"Probability to hit Goal\", Prob_Goal(year_67[i], year_67[3]), Prob_Goal(year_70[i], year_70[3])]\n",
    "    meanRow = [\"Mean\", np.mean(year_67[i]), np.mean(year_70[i])]\n",
    "    varianceRow = [\"Variance\", np.var(year_67[i]), np.var(year_70[i])]\n",
    "    GaRRow = [\"GaR\", GaR(year_67[i], year_67[3]), GaR(year_70[i], year_70[3])]\n",
    "    CGaRRow = [\"CGaR\", CGaR(year_67[i], year_67[3]), CGaR(year_70[i], year_70[3])]\n",
    "    DownsideL1Row = [\"Downside Risk L1\", Downside_Risk(year_67[i], year_67[3]), Downside_Risk(year_70[i], year_70[3])]\n",
    "    preRetUtilRow = [\"Pre-Ret Util\", np.mean(year_67[5]), np.mean(year_70[5])]\n",
    "    postRetUtilRow = [\"Post-Ret Util\", avg_postret_util(year_67[i], year_67[4], 17),\n",
    "                      avg_postret_util(year_70[i], year_70[4], 15)]\n",
    "    dfTemp.loc[0] = ProbRow\n",
    "    dfTemp.loc[1] = meanRow\n",
    "    dfTemp.loc[2] = varianceRow\n",
    "    dfTemp.loc[3] = GaRRow\n",
    "    dfTemp.loc[4] = CGaRRow\n",
    "    dfTemp.loc[5] = DownsideL1Row\n",
    "    dfTemp.loc[6] = [\"Savings%\", savingsAmount, savingsAmount]\n",
    "    dfTemp.loc[7] = [\"Total Utility\", preRetUtilRow[1] + postRetUtilRow[1],\n",
    "                    preRetUtilRow[2] + postRetUtilRow[2]]\n",
    "    dfTemp.loc[8] = preRetUtilRow\n",
    "    dfTemp.loc[9] = postRetUtilRow\n",
    "    dfTemp.loc[10] = [\"Max Ret. Spend %Salary\", avg_possible_spending(year_67[i], year_67[4], 17),\n",
    "                      avg_possible_spending(year_70[i], year_70[4], 15)]"
   ]
  },
  {
   "cell_type": "code",
   "execution_count": 190,
   "metadata": {},
   "outputs": [
    {
     "data": {
      "text/html": [
       "<div>\n",
       "<style scoped>\n",
       "    .dataframe tbody tr th:only-of-type {\n",
       "        vertical-align: middle;\n",
       "    }\n",
       "\n",
       "    .dataframe tbody tr th {\n",
       "        vertical-align: top;\n",
       "    }\n",
       "\n",
       "    .dataframe thead th {\n",
       "        text-align: right;\n",
       "    }\n",
       "</style>\n",
       "<table border=\"1\" class=\"dataframe\">\n",
       "  <thead>\n",
       "    <tr style=\"text-align: right;\">\n",
       "      <th></th>\n",
       "      <th>Data Type</th>\n",
       "      <th>67 years</th>\n",
       "      <th>70 years</th>\n",
       "    </tr>\n",
       "  </thead>\n",
       "  <tbody>\n",
       "    <tr>\n",
       "      <th>0</th>\n",
       "      <td>Probability to hit Goal</td>\n",
       "      <td>9.166667e-01</td>\n",
       "      <td>1.000000e+00</td>\n",
       "    </tr>\n",
       "    <tr>\n",
       "      <th>1</th>\n",
       "      <td>Mean</td>\n",
       "      <td>5.642704e+06</td>\n",
       "      <td>6.886373e+06</td>\n",
       "    </tr>\n",
       "    <tr>\n",
       "      <th>2</th>\n",
       "      <td>Variance</td>\n",
       "      <td>4.094930e+11</td>\n",
       "      <td>6.079915e+11</td>\n",
       "    </tr>\n",
       "    <tr>\n",
       "      <th>3</th>\n",
       "      <td>GaR</td>\n",
       "      <td>0.000000e+00</td>\n",
       "      <td>0.000000e+00</td>\n",
       "    </tr>\n",
       "    <tr>\n",
       "      <th>4</th>\n",
       "      <td>CGaR</td>\n",
       "      <td>3.927050e+05</td>\n",
       "      <td>0.000000e+00</td>\n",
       "    </tr>\n",
       "    <tr>\n",
       "      <th>5</th>\n",
       "      <td>Downside Risk L1</td>\n",
       "      <td>7.854099e+05</td>\n",
       "      <td>NaN</td>\n",
       "    </tr>\n",
       "    <tr>\n",
       "      <th>6</th>\n",
       "      <td>Savings%</td>\n",
       "      <td>2.000000e-01</td>\n",
       "      <td>2.000000e-01</td>\n",
       "    </tr>\n",
       "    <tr>\n",
       "      <th>7</th>\n",
       "      <td>Total Utility</td>\n",
       "      <td>6.876678e+02</td>\n",
       "      <td>7.052440e+02</td>\n",
       "    </tr>\n",
       "    <tr>\n",
       "      <th>8</th>\n",
       "      <td>Pre-Ret Util</td>\n",
       "      <td>4.668639e+02</td>\n",
       "      <td>5.060204e+02</td>\n",
       "    </tr>\n",
       "    <tr>\n",
       "      <th>9</th>\n",
       "      <td>Post-Ret Util</td>\n",
       "      <td>2.208039e+02</td>\n",
       "      <td>1.992236e+02</td>\n",
       "    </tr>\n",
       "    <tr>\n",
       "      <th>10</th>\n",
       "      <td>Max Ret. Spend %Salary</td>\n",
       "      <td>6.617890e-01</td>\n",
       "      <td>8.495293e-01</td>\n",
       "    </tr>\n",
       "  </tbody>\n",
       "</table>\n",
       "</div>"
      ],
      "text/plain": [
       "                  Data Type      67 years      70 years\n",
       "0   Probability to hit Goal  9.166667e-01  1.000000e+00\n",
       "1                      Mean  5.642704e+06  6.886373e+06\n",
       "2                  Variance  4.094930e+11  6.079915e+11\n",
       "3                       GaR  0.000000e+00  0.000000e+00\n",
       "4                      CGaR  3.927050e+05  0.000000e+00\n",
       "5          Downside Risk L1  7.854099e+05           NaN\n",
       "6                  Savings%  2.000000e-01  2.000000e-01\n",
       "7             Total Utility  6.876678e+02  7.052440e+02\n",
       "8              Pre-Ret Util  4.668639e+02  5.060204e+02\n",
       "9             Post-Ret Util  2.208039e+02  1.992236e+02\n",
       "10   Max Ret. Spend %Salary  6.617890e-01  8.495293e-01"
      ]
     },
     "execution_count": 190,
     "metadata": {},
     "output_type": "execute_result"
    }
   ],
   "source": [
    "df5a"
   ]
  },
  {
   "cell_type": "code",
   "execution_count": 191,
   "metadata": {},
   "outputs": [
    {
     "data": {
      "text/html": [
       "<div>\n",
       "<style scoped>\n",
       "    .dataframe tbody tr th:only-of-type {\n",
       "        vertical-align: middle;\n",
       "    }\n",
       "\n",
       "    .dataframe tbody tr th {\n",
       "        vertical-align: top;\n",
       "    }\n",
       "\n",
       "    .dataframe thead th {\n",
       "        text-align: right;\n",
       "    }\n",
       "</style>\n",
       "<table border=\"1\" class=\"dataframe\">\n",
       "  <thead>\n",
       "    <tr style=\"text-align: right;\">\n",
       "      <th></th>\n",
       "      <th>Data Type</th>\n",
       "      <th>67 years</th>\n",
       "      <th>70 years</th>\n",
       "    </tr>\n",
       "  </thead>\n",
       "  <tbody>\n",
       "    <tr>\n",
       "      <th>0</th>\n",
       "      <td>Probability to hit Goal</td>\n",
       "      <td>8.333333e-01</td>\n",
       "      <td>9.166667e-01</td>\n",
       "    </tr>\n",
       "    <tr>\n",
       "      <th>1</th>\n",
       "      <td>Mean</td>\n",
       "      <td>8.812744e+06</td>\n",
       "      <td>1.099956e+07</td>\n",
       "    </tr>\n",
       "    <tr>\n",
       "      <th>2</th>\n",
       "      <td>Variance</td>\n",
       "      <td>1.269386e+13</td>\n",
       "      <td>1.596258e+13</td>\n",
       "    </tr>\n",
       "    <tr>\n",
       "      <th>3</th>\n",
       "      <td>GaR</td>\n",
       "      <td>2.247563e+05</td>\n",
       "      <td>0.000000e+00</td>\n",
       "    </tr>\n",
       "    <tr>\n",
       "      <th>4</th>\n",
       "      <td>CGaR</td>\n",
       "      <td>5.836290e+05</td>\n",
       "      <td>1.493468e+05</td>\n",
       "    </tr>\n",
       "    <tr>\n",
       "      <th>5</th>\n",
       "      <td>Downside Risk L1</td>\n",
       "      <td>5.836290e+05</td>\n",
       "      <td>2.986936e+05</td>\n",
       "    </tr>\n",
       "    <tr>\n",
       "      <th>6</th>\n",
       "      <td>Savings%</td>\n",
       "      <td>2.000000e-01</td>\n",
       "      <td>2.000000e-01</td>\n",
       "    </tr>\n",
       "    <tr>\n",
       "      <th>7</th>\n",
       "      <td>Total Utility</td>\n",
       "      <td>6.940336e+02</td>\n",
       "      <td>7.112582e+02</td>\n",
       "    </tr>\n",
       "    <tr>\n",
       "      <th>8</th>\n",
       "      <td>Pre-Ret Util</td>\n",
       "      <td>4.668639e+02</td>\n",
       "      <td>5.060204e+02</td>\n",
       "    </tr>\n",
       "    <tr>\n",
       "      <th>9</th>\n",
       "      <td>Post-Ret Util</td>\n",
       "      <td>2.271697e+02</td>\n",
       "      <td>2.052378e+02</td>\n",
       "    </tr>\n",
       "    <tr>\n",
       "      <th>10</th>\n",
       "      <td>Max Ret. Spend %Salary</td>\n",
       "      <td>1.033578e+00</td>\n",
       "      <td>1.356948e+00</td>\n",
       "    </tr>\n",
       "  </tbody>\n",
       "</table>\n",
       "</div>"
      ],
      "text/plain": [
       "                  Data Type      67 years      70 years\n",
       "0   Probability to hit Goal  8.333333e-01  9.166667e-01\n",
       "1                      Mean  8.812744e+06  1.099956e+07\n",
       "2                  Variance  1.269386e+13  1.596258e+13\n",
       "3                       GaR  2.247563e+05  0.000000e+00\n",
       "4                      CGaR  5.836290e+05  1.493468e+05\n",
       "5          Downside Risk L1  5.836290e+05  2.986936e+05\n",
       "6                  Savings%  2.000000e-01  2.000000e-01\n",
       "7             Total Utility  6.940336e+02  7.112582e+02\n",
       "8              Pre-Ret Util  4.668639e+02  5.060204e+02\n",
       "9             Post-Ret Util  2.271697e+02  2.052378e+02\n",
       "10   Max Ret. Spend %Salary  1.033578e+00  1.356948e+00"
      ]
     },
     "execution_count": 191,
     "metadata": {},
     "output_type": "execute_result"
    }
   ],
   "source": [
    "df5b"
   ]
  },
  {
   "cell_type": "code",
   "execution_count": 192,
   "metadata": {},
   "outputs": [
    {
     "data": {
      "text/html": [
       "<div>\n",
       "<style scoped>\n",
       "    .dataframe tbody tr th:only-of-type {\n",
       "        vertical-align: middle;\n",
       "    }\n",
       "\n",
       "    .dataframe tbody tr th {\n",
       "        vertical-align: top;\n",
       "    }\n",
       "\n",
       "    .dataframe thead th {\n",
       "        text-align: right;\n",
       "    }\n",
       "</style>\n",
       "<table border=\"1\" class=\"dataframe\">\n",
       "  <thead>\n",
       "    <tr style=\"text-align: right;\">\n",
       "      <th></th>\n",
       "      <th>Data Type</th>\n",
       "      <th>67 years</th>\n",
       "      <th>70 years</th>\n",
       "    </tr>\n",
       "  </thead>\n",
       "  <tbody>\n",
       "    <tr>\n",
       "      <th>0</th>\n",
       "      <td>Probability to hit Goal</td>\n",
       "      <td>9.166667e-01</td>\n",
       "      <td>1.000000e+00</td>\n",
       "    </tr>\n",
       "    <tr>\n",
       "      <th>1</th>\n",
       "      <td>Mean</td>\n",
       "      <td>7.947385e+06</td>\n",
       "      <td>9.736356e+06</td>\n",
       "    </tr>\n",
       "    <tr>\n",
       "      <th>2</th>\n",
       "      <td>Variance</td>\n",
       "      <td>5.595486e+12</td>\n",
       "      <td>6.365831e+12</td>\n",
       "    </tr>\n",
       "    <tr>\n",
       "      <th>3</th>\n",
       "      <td>GaR</td>\n",
       "      <td>0.000000e+00</td>\n",
       "      <td>0.000000e+00</td>\n",
       "    </tr>\n",
       "    <tr>\n",
       "      <th>4</th>\n",
       "      <td>CGaR</td>\n",
       "      <td>2.405737e+05</td>\n",
       "      <td>0.000000e+00</td>\n",
       "    </tr>\n",
       "    <tr>\n",
       "      <th>5</th>\n",
       "      <td>Downside Risk L1</td>\n",
       "      <td>4.811473e+05</td>\n",
       "      <td>NaN</td>\n",
       "    </tr>\n",
       "    <tr>\n",
       "      <th>6</th>\n",
       "      <td>Savings%</td>\n",
       "      <td>2.000000e-01</td>\n",
       "      <td>2.000000e-01</td>\n",
       "    </tr>\n",
       "    <tr>\n",
       "      <th>7</th>\n",
       "      <td>Total Utility</td>\n",
       "      <td>6.928398e+02</td>\n",
       "      <td>7.099811e+02</td>\n",
       "    </tr>\n",
       "    <tr>\n",
       "      <th>8</th>\n",
       "      <td>Pre-Ret Util</td>\n",
       "      <td>4.668639e+02</td>\n",
       "      <td>5.060204e+02</td>\n",
       "    </tr>\n",
       "    <tr>\n",
       "      <th>9</th>\n",
       "      <td>Post-Ret Util</td>\n",
       "      <td>2.259759e+02</td>\n",
       "      <td>2.039607e+02</td>\n",
       "    </tr>\n",
       "    <tr>\n",
       "      <th>10</th>\n",
       "      <td>Max Ret. Spend %Salary</td>\n",
       "      <td>9.320873e-01</td>\n",
       "      <td>1.201114e+00</td>\n",
       "    </tr>\n",
       "  </tbody>\n",
       "</table>\n",
       "</div>"
      ],
      "text/plain": [
       "                  Data Type      67 years      70 years\n",
       "0   Probability to hit Goal  9.166667e-01  1.000000e+00\n",
       "1                      Mean  7.947385e+06  9.736356e+06\n",
       "2                  Variance  5.595486e+12  6.365831e+12\n",
       "3                       GaR  0.000000e+00  0.000000e+00\n",
       "4                      CGaR  2.405737e+05  0.000000e+00\n",
       "5          Downside Risk L1  4.811473e+05           NaN\n",
       "6                  Savings%  2.000000e-01  2.000000e-01\n",
       "7             Total Utility  6.928398e+02  7.099811e+02\n",
       "8              Pre-Ret Util  4.668639e+02  5.060204e+02\n",
       "9             Post-Ret Util  2.259759e+02  2.039607e+02\n",
       "10   Max Ret. Spend %Salary  9.320873e-01  1.201114e+00"
      ]
     },
     "execution_count": 192,
     "metadata": {},
     "output_type": "execute_result"
    }
   ],
   "source": [
    "df5c"
   ]
  },
  {
   "cell_type": "code",
   "execution_count": null,
   "metadata": {},
   "outputs": [],
   "source": []
  },
  {
   "cell_type": "code",
   "execution_count": null,
   "metadata": {},
   "outputs": [],
   "source": [
    "##################################################"
   ]
  },
  {
   "cell_type": "code",
   "execution_count": 128,
   "metadata": {},
   "outputs": [
    {
     "name": "stdout",
     "output_type": "stream",
     "text": [
      "12.206072645530174\n",
      "12.227834137311687\n",
      "12.2495956290932\n",
      "12.271357120874711\n",
      "12.293118612656224\n",
      "12.314880104437737\n",
      "12.33664159621925\n",
      "12.358403088000763\n",
      "12.380164579782276\n",
      "12.401926071563787\n",
      "12.4236875633453\n",
      "12.445449055126813\n",
      "12.467210546908326\n",
      "12.48897203868984\n",
      "12.510733530471352\n",
      "12.532495022252865\n",
      "12.554256514034376\n",
      "12.57601800581589\n",
      "12.597779497597402\n",
      "12.619540989378915\n",
      "12.641302481160428\n",
      "12.663063972941941\n",
      "12.684825464723454\n",
      "12.706586956504966\n",
      "12.728348448286479\n",
      "12.750109940067992\n",
      "12.771871431849505\n",
      "12.793632923631018\n",
      "12.81539441541253\n",
      "12.837155907194042\n",
      "12.858917398975555\n",
      "12.880678890757068\n",
      "12.90244038253858\n",
      "12.924201874320094\n",
      "12.945963366101607\n",
      "12.96772485788312\n",
      "12.989486349664631\n",
      "13.011247841446144\n",
      "13.033009333227657\n",
      "13.05477082500917\n",
      "13.076532316790683\n",
      "41\n"
     ]
    }
   ],
   "source": [
    "sal2 = 0\n",
    "savingsRate = 0.20\n",
    "discountRate = 1.032\n",
    "totalUtilityValue = 0\n",
    "totalSavings = 0\n",
    "counter = 0\n",
    "for i in range(60):\n",
    "    if (i <= 45):\n",
    "        if (i == 5):\n",
    "            sal2 = 250000/1.022\n",
    "        sal2 *= 1.022\n",
    "        if (sal2 != 0):\n",
    "            print(log(sal2*(1-savingsRate)))\n",
    "            totalUtilityValue += log(sal2*(1-savingsRate))\n",
    "            counter += 1\n",
    "            totalSavings += sal2*savingsRate\n",
    "print(counter)\n",
    "retirementUtilityValue = 0\n",
    "for i in range(14):\n",
    "    retirementUtilityValue += log(totalSavings/14.0)"
   ]
  },
  {
   "cell_type": "code",
   "execution_count": 124,
   "metadata": {},
   "outputs": [
    {
     "data": {
      "text/plain": [
       "597002.0750145076"
      ]
     },
     "execution_count": 124,
     "metadata": {},
     "output_type": "execute_result"
    }
   ],
   "source": [
    "sal2"
   ]
  },
  {
   "cell_type": "code",
   "execution_count": 125,
   "metadata": {},
   "outputs": [
    {
     "name": "stdout",
     "output_type": "stream",
     "text": [
      "518.2934017275775 173.07436909697077\n",
      "691.3677708245482\n"
     ]
    }
   ],
   "source": [
    "print(totalUtilityValue, retirementUtilityValue)\n",
    "print(totalUtilityValue + retirementUtilityValue)"
   ]
  },
  {
   "cell_type": "code",
   "execution_count": 115,
   "metadata": {},
   "outputs": [],
   "source": [
    "res = []\n",
    "for n in range(10,40):\n",
    "    sal2 = 0\n",
    "    savingsRate = n*0.01\n",
    "    discountRate = 1.032\n",
    "    totalUtilityValue = 0\n",
    "    totalSavings = 0\n",
    "    for i in range(45):\n",
    "        if (i == 5):\n",
    "            sal2 = 250000/1.022\n",
    "        sal2 *= 1.022\n",
    "        if (sal2 != 0):\n",
    "            totalUtilityValue += log(sal2*(1-savingsRate))*(2-i/45)\n",
    "            totalSavings += sal2*savingsRate\n",
    "            totalSavings *= 1\n",
    "\n",
    "    retirementUtilityValue = 0\n",
    "    for i in range(14):\n",
    "        retirementUtilityValue += log(totalSavings/14.0)\n",
    "    res.append(totalUtilityValue + retirementUtilityValue)"
   ]
  },
  {
   "cell_type": "code",
   "execution_count": 27,
   "metadata": {},
   "outputs": [
    {
     "data": {
      "text/plain": [
       "[<matplotlib.lines.Line2D at 0x27860301be0>]"
      ]
     },
     "execution_count": 27,
     "metadata": {},
     "output_type": "execute_result"
    },
    {
     "data": {
      "image/png": "[encoded data removed]",
      "text/plain": [
       "<Figure size 432x288 with 1 Axes>"
      ]
     },
     "metadata": {
      "needs_background": "light"
     },
     "output_type": "display_data"
    }
   ],
   "source": [
    "plt.plot(res)"
   ]
  },
  {
   "cell_type": "code",
   "execution_count": null,
   "metadata": {},
   "outputs": [],
   "source": []
  }
 ],
 "metadata": {
  "kernelspec": {
   "display_name": "Python 3",
   "language": "python",
   "name": "python3"
  },
  "language_info": {
   "codemirror_mode": {
    "name": "ipython",
    "version": 3
   },
   "file_extension": ".py",
   "mimetype": "text/x-python",
   "name": "python",
   "nbconvert_exporter": "python",
   "pygments_lexer": "ipython3",
   "version": "3.6.4"
  }
 },
 "nbformat": 4,
 "nbformat_minor": 2
}
